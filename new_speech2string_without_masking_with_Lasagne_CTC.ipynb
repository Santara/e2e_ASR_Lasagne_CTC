{
 "cells": [
  {
   "cell_type": "markdown",
   "metadata": {},
   "source": [
    "Imports\n",
    "======"
   ]
  },
  {
   "cell_type": "code",
   "execution_count": 1,
   "metadata": {
    "collapsed": false
   },
   "outputs": [
    {
     "name": "stderr",
     "output_type": "stream",
     "text": [
      "/usr/local/lib/python2.7/dist-packages/theano/tensor/signal/downsample.py:6: UserWarning: downsample module has been moved to the theano.tensor.signal.pool module.\n",
      "  \"downsample module has been moved to the theano.tensor.signal.pool module.\")\n"
     ]
    }
   ],
   "source": [
    "import pickle as pkl\n",
    "import numpy as np\n",
    "import theano\n",
    "import theano.tensor as T\n",
    "import lasagne \n",
    "from lasagne.layers import InputLayer, DenseLayer, RecurrentLayer, NonlinearityLayer, ReshapeLayer, get_output, get_all_params, get_all_param_values\n",
    "import ctc_cost\n",
    "from time import time\n",
    "from TIMIT_utils import index2char_TIMIT\n",
    "import sys\n"
   ]
  },
  {
   "cell_type": "markdown",
   "metadata": {},
   "source": [
    "load data\n",
    "===="
   ]
  },
  {
   "cell_type": "code",
   "execution_count": 2,
   "metadata": {
    "collapsed": false
   },
   "outputs": [],
   "source": [
    "f = open('TIMIT_data_prepared_for_CTC.pkl','rb')\n",
    "data = pkl.load(f)\n",
    "inp = data['x']\n",
    "inp1 = data['inputs']\n",
    "msk = data['mask']\n",
    "tgt = data['y_indices']\n",
    "char = data['chars']"
   ]
  },
  {
   "cell_type": "markdown",
   "metadata": {},
   "source": [
    "build the network\n",
    "==="
   ]
  },
  {
   "cell_type": "code",
   "execution_count": 3,
   "metadata": {
    "collapsed": true
   },
   "outputs": [],
   "source": [
    "input_size = len(inp1[0][0])\n",
    "hidden_size = 10\n",
    "num_output_classes = len(char)\n",
    "learning_rate = 0.01\n",
    "output_size = num_output_classes+1\n",
    "batch_size = None\n",
    "input_seq_length = None"
   ]
  },
  {
   "cell_type": "code",
   "execution_count": 4,
   "metadata": {
    "collapsed": true
   },
   "outputs": [],
   "source": [
    "def clipped_relu(x, clipping_value = 20):\n",
    "    return T.switch(x>clipping_value, clipping_value, T.nnet.relu(x))"
   ]
  },
  {
   "cell_type": "code",
   "execution_count": 5,
   "metadata": {
    "collapsed": true
   },
   "outputs": [],
   "source": [
    "# x = T.dtensor3('inputs') #Change this to ftensor3 when floatX=float32\n",
    "y = T.imatrix('targets')"
   ]
  },
  {
   "cell_type": "code",
   "execution_count": 6,
   "metadata": {
    "collapsed": false
   },
   "outputs": [],
   "source": [
    "l_in = InputLayer(shape=(batch_size, input_seq_length, input_size))\n",
    "n_batch, n_time_steps, n_features = l_in.input_var.shape #Unnecessary in this version. Just collecting the info so that we can reshape the output back to the original shape\n",
    "l_rec = RecurrentLayer(l_in, num_units=hidden_size, grad_clipping=5, nonlinearity=clipped_relu)\n",
    "l_rec_reshaped = ReshapeLayer(l_rec, (-1,hidden_size))\n",
    "l_out = DenseLayer(l_rec_reshaped, num_units=output_size)\n",
    "l_out_reshaped = ReshapeLayer(l_out, (n_batch, n_time_steps, output_size))#Reshaping back\n",
    "l_out_softmax = NonlinearityLayer(l_out, nonlinearity=lasagne.nonlinearities.softmax)\n",
    "l_out_softmax_reshaped = ReshapeLayer(l_out_softmax, (n_batch, n_time_steps, output_size))"
   ]
  },
  {
   "cell_type": "code",
   "execution_count": 7,
   "metadata": {
    "collapsed": false
   },
   "outputs": [],
   "source": [
    "output_logits = get_output(l_out_reshaped)\n",
    "output_softmax = get_output(l_out_softmax_reshaped)\n"
   ]
  },
  {
   "cell_type": "code",
   "execution_count": 8,
   "metadata": {
    "collapsed": false
   },
   "outputs": [
    {
     "name": "stdout",
     "output_type": "stream",
     "text": [
      "True\n"
     ]
    }
   ],
   "source": [
    "all_params = get_all_params(l_out,trainable=True)\n",
    "print all_params==[l_rec.W_in_to_hid, l_rec.b, l_rec.W_hid_to_hid, l_out.W, l_out.b]"
   ]
  },
  {
   "cell_type": "code",
   "execution_count": 9,
   "metadata": {
    "collapsed": true
   },
   "outputs": [],
   "source": [
    "pseudo_cost = ctc_cost.pseudo_cost(y, output_logits)"
   ]
  },
  {
   "cell_type": "code",
   "execution_count": 10,
   "metadata": {
    "collapsed": true
   },
   "outputs": [],
   "source": [
    "pseudo_cost_grad = T.grad(pseudo_cost.sum() / n_batch, all_params)\n"
   ]
  },
  {
   "cell_type": "code",
   "execution_count": 11,
   "metadata": {
    "collapsed": true
   },
   "outputs": [],
   "source": [
    "#Disputed area, does not compile >_<\n",
    "true_cost = ctc_cost.cost(y, output_softmax)\n",
    "cost = T.mean(true_cost)"
   ]
  },
  {
   "cell_type": "code",
   "execution_count": 12,
   "metadata": {
    "collapsed": false
   },
   "outputs": [],
   "source": [
    "# theano.printing.pydotprint(output_logits, outfile=\"./compute_graph.png\", var_with_name_simple=True)  \n",
    "# theano.printing.debugprint(output_logits) "
   ]
  },
  {
   "cell_type": "code",
   "execution_count": 13,
   "metadata": {
    "collapsed": true
   },
   "outputs": [],
   "source": [
    "\n",
    "shared_learning_rate = theano.shared(lasagne.utils.floatX(0.01))\n",
    "updates = lasagne.updates.rmsprop(pseudo_cost_grad, all_params, learning_rate=learning_rate)"
   ]
  },
  {
   "cell_type": "code",
   "execution_count": 14,
   "metadata": {
    "collapsed": false
   },
   "outputs": [],
   "source": [
    "theano.config.exception_verbosity='high'\n",
    "train = theano.function([l_in.input_var,y], [output_logits, output_softmax, cost, pseudo_cost], updates=updates)\n",
    "# train = theano.function([l_in.input_var,y], [output_logits, output_softmax, cost, pseudo_cost], updates=updates)"
   ]
  },
  {
   "cell_type": "code",
   "execution_count": 15,
   "metadata": {
    "collapsed": false
   },
   "outputs": [
    {
     "name": "stdout",
     "output_type": "stream",
     "text": [
      "(1, 268, 39) (1, 37)\n"
     ]
    }
   ],
   "source": [
    "inp0 = inp1[0]#.astype(theano.config.floatX)\n",
    "# msk0 = msk[0].astype(np.bool)\n",
    "# inp0 = inp0[msk0]\n",
    "inp00= np.asarray([inp0],dtype=theano.config.floatX)\n",
    "tgt0 = np.asarray(tgt[0],dtype=np.int16)\n",
    "tgt00 = np.asarray([tgt0])\n",
    "# inp00 = np.asarray([inp0[msk0]])\n",
    "# print inp00.shape, msk0.shape, tgt00.shape\n",
    "print inp00.shape, tgt00.shape"
   ]
  },
  {
   "cell_type": "code",
   "execution_count": 16,
   "metadata": {
    "collapsed": false
   },
   "outputs": [],
   "source": [
    "# # a,b,c,d = train(inp00,tgt00)\n",
    "# # print c\n",
    "# # y_ = output_softmax.eval({l_in.input_var:inp00})\n",
    "# for elem in pseudo_cost_grad:\n",
    "#     print elem.eval({l_in.input_var:inp00, y:tgt00})\n",
    "    "
   ]
  },
  {
   "cell_type": "code",
   "execution_count": 17,
   "metadata": {
    "collapsed": false
   },
   "outputs": [],
   "source": [
    "# # y_.shape\n",
    "# print np.argmax(y_,axis=2)\n",
    "# from TIMIT_utils import index2char_TIMIT\n",
    "# print index2char_TIMIT(np.argmax(y_, axis=2)[0])\n",
    "# print index2char_TIMIT(tgt0)"
   ]
  },
  {
   "cell_type": "code",
   "execution_count": 18,
   "metadata": {
    "collapsed": false,
    "scrolled": true
   },
   "outputs": [
    {
     "name": "stdout",
     "output_type": "stream",
     "text": [
      "Epoch:  0 Cost:  158.759506363 , time taken = 74.6103839874\n",
      "Predicted: ____________________________________________________________________________________________________________________________________________________________________________________ _______________________________________________________________________________________\n",
      "Target: first add milk to the shredded cheese\n",
      "Predicted: _____________________________________________________________________________________________________________________________________________________________________________________________________________________________________________________________________________________________________________________________l___________________________________________________________________________________________________________________________________________________________________________________________________l______________________________________________\n",
      "Target: a concurrent effort is needed to make oceanographic data useful on the spot\n",
      "Epoch:  1 Cost:  148.531671453 , time taken = 72.2499969006\n",
      "Epoch:  2 Cost:  146.223363627 , time taken = 76.666218996\n",
      "Epoch:  3 Cost:  144.266290769 , time taken = 75.3101458549\n",
      "Epoch:  4 Cost:  142.671022111 , time taken = 73.6577420235\n",
      "Epoch:  5 Cost:  141.793594262 , time taken = 73.8145577908\n",
      "Epoch:  6 Cost:  141.229893234 , time taken = 73.6815800667\n",
      "Epoch:  7 Cost:  140.525117494 , time taken = 72.5558059216\n",
      "Epoch:  8 Cost:  140.175565815 , time taken = 73.0061898232\n",
      "Epoch:  9 Cost:  139.937407692 , time taken = 73.3004910946\n",
      "Epoch:  10 Cost:  140.156715045 , time taken = 72.4760987759\n",
      "Predicted: __________________________________________________________________________________________________________________________________________________________________r___r_____________________________________________________________________________________________________\n",
      "Target: first add milk to the shredded cheese\n",
      "Predicted: _______________________________________________________________r___r____________________________________________________________________________________________________________________________________________________________________r_____________________________r________r___________________________r____________________________________________________________________________________________________________________________________________________________________________________________________________________________________________________________________\n",
      "Target: a concurrent effort is needed to make oceanographic data useful on the spot\n",
      "Epoch:  11 Cost:  139.766451923 , time taken = 72.8014540672\n",
      "Epoch:  12 Cost:  139.497876768 , time taken = 70.3924109936\n",
      "Epoch:  13 Cost:  139.303020738 , time taken = 70.1560270786\n",
      "Epoch:  14 Cost:  139.150853973 , time taken = 70.9255900383\n",
      "Epoch:  15 Cost:  139.281476753 , time taken = 75.2437560558\n",
      "Epoch:  16 Cost:  139.030035223 , time taken = 73.5752120018\n",
      "Epoch:  17 Cost:  138.97830106 , time taken = 72.6360549927\n",
      "Epoch:  18 Cost:  139.176112484 , time taken = 71.9936699867\n",
      "Epoch:  19 Cost:  138.638447231 , time taken = 71.7901530266\n",
      "Epoch:  20 Cost:  138.657750876 , time taken = 71.6231348515\n",
      "Predicted: ____________________________________________________________________________________________________________________________________________________________________________________________________________________________________________________________________________\n",
      "Target: first add milk to the shredded cheese\n",
      "Predicted: ________________________________________________________________________________________________________________________________________________________________________________________________________________________________________________________________________________________________________________________________________________________________________________________________________________________________________________________________________________________________________________________________________________________________________________\n",
      "Target: a concurrent effort is needed to make oceanographic data useful on the spot\n",
      "Epoch:  21 Cost:  138.122304214 , time taken = 72.4640440941\n",
      "Epoch:  22 Cost:  138.794756208 , time taken = 72.0681409836\n",
      "Epoch:  23 Cost:  138.832042868 , time taken = 70.9070429802\n",
      "Epoch:  24 Cost:  138.83795236 , time taken = 72.3794260025\n",
      "Epoch:  25 Cost:  138.969208257 , time taken = 73.5656859875\n",
      "Epoch:  26 Cost:  138.677080198 , time taken = 72.6433129311\n",
      "Epoch:  27 Cost:  138.661553934 , time taken = 72.2324130535\n",
      "Epoch:  28 Cost:  138.973844896 , time taken = 71.8368291855\n",
      "Epoch:  29 Cost:  138.47910054 , time taken = 72.3555548191\n",
      "Epoch:  30 Cost:  138.330307408 , time taken = 74.5915989876\n",
      "Predicted: ____________________________________________________________________________________________________________________________________________________________________________________________________________________________________________________________________________\n",
      "Target: first add milk to the shredded cheese\n",
      "Predicted: ______________________________________n__n________________________________________________________________________________________________________________nnnn__________________________________________________________________________________________________________________________________________________________________________________________________________________________________________________________________________________________________________________________________________________________________________________________________________________\n",
      "Target: a concurrent effort is needed to make oceanographic data useful on the spot\n",
      "Epoch:  31 Cost:  138.280966304 , time taken = 73.76623106\n",
      "Epoch:  32 Cost:  138.520329194 , time taken = 71.5263309479\n",
      "Epoch:  33 Cost:  138.730233373 , time taken = 73.1183030605\n",
      "Epoch:  34 Cost:  138.884170731 , time taken = 72.858317852\n",
      "Epoch:  35 Cost:  139.11857651 , time taken = 71.6668958664\n",
      "Epoch:  36 Cost:  139.057240492 , time taken = 73.5802500248\n",
      "Epoch:  37 Cost:  138.574883893 , time taken = 71.9547569752\n",
      "Epoch:  38 Cost:  138.459260418 , time taken = 73.1065130234\n",
      "Epoch:  39 Cost:  138.478074432 , time taken = 72.3687231541\n",
      "Epoch:  40 Cost:  138.550556737 , time taken = 71.8690841198\n",
      "Predicted: ____________________________________________________________________________________________________________________________________________________________________________________________________________________________________________________________________________\n",
      "Target: first add milk to the shredded cheese\n",
      "Predicted: ________________________________________________________________________________________________________________________________________________________________________________________________________________________________________________________________________________________________________________________________________________________________________________________________________________________________________________________________________________________________________________________________________________________________________________\n",
      "Target: a concurrent effort is needed to make oceanographic data useful on the spot\n",
      "Epoch:  41 Cost:  138.502837793 , time taken = 72.3295109272\n",
      "Epoch:  42 Cost:  138.650553138 , time taken = 73.7650408745\n",
      "Epoch:  43 Cost:  137.978710125 , time taken = 73.2238790989\n",
      "Epoch:  44 Cost:  138.547989583 , time taken = 71.9054629803\n",
      "Epoch:  45 Cost:  138.222007399 , time taken = 72.9012718201\n",
      "Epoch:  46 Cost:  138.283246075 , time taken = 71.6210238934\n",
      "Epoch:  47 Cost:  138.295750286 , time taken = 72.5388841629\n",
      "Epoch:  48 Cost:  138.396038195 , time taken = 71.9800870419\n",
      "Epoch:  49 Cost:  138.3916892 , time taken = 73.2505102158\n",
      "Epoch:  50 Cost:  138.135863673 , time taken = 73.3761930466\n",
      "Predicted: ____________________________________________________________________________________________________________________________________________________________________________________________________________________________________________________________________________\n",
      "Target: first add milk to the shredded cheese\n",
      "Predicted: ________________________________________________________________________________________________________________________________________________________________________________________________________________________________________________________________________________________________________________________________________________________________________________________________________________________________________________________________________________________________________________________________________________________________________________\n",
      "Target: a concurrent effort is needed to make oceanographic data useful on the spot\n",
      "Epoch:  51 Cost:  138.104226618 , time taken = 73.0818109512\n",
      "Epoch:  52 Cost:  138.622129535 , time taken = 73.4961979389\n",
      "Epoch:  53 Cost:  139.268349134 , time taken = 72.5316810608\n",
      "Epoch:  54 Cost:  139.169314813 , time taken = 71.1433777809\n",
      "Epoch:  55 Cost:  138.868758037 , time taken = 71.7026700974\n",
      "Epoch:  56 Cost:  139.138380582 , time taken = 74.1976799965\n"
     ]
    },
    {
     "ename": "KeyboardInterrupt",
     "evalue": "",
     "output_type": "error",
     "traceback": [
      "\u001b[1;31m---------------------------------------------------------------------------\u001b[0m",
      "\u001b[1;31mKeyboardInterrupt\u001b[0m                         Traceback (most recent call last)",
      "\u001b[1;32m<ipython-input-18-95564d7acc91>\u001b[0m in \u001b[0;36m<module>\u001b[1;34m()\u001b[0m\n\u001b[0;32m     13\u001b[0m         \u001b[0mcurr_tgt\u001b[0m \u001b[1;33m=\u001b[0m \u001b[0mnp\u001b[0m\u001b[1;33m.\u001b[0m\u001b[0masarray\u001b[0m\u001b[1;33m(\u001b[0m\u001b[1;33m[\u001b[0m\u001b[0mcurr_tgt\u001b[0m\u001b[1;33m]\u001b[0m\u001b[1;33m)\u001b[0m\u001b[1;33m\u001b[0m\u001b[0m\n\u001b[0;32m     14\u001b[0m         \u001b[1;32mtry\u001b[0m\u001b[1;33m:\u001b[0m\u001b[1;33m\u001b[0m\u001b[0m\n\u001b[1;32m---> 15\u001b[1;33m             \u001b[0m_\u001b[0m\u001b[1;33m,\u001b[0m\u001b[0m_\u001b[0m\u001b[1;33m,\u001b[0m\u001b[0mc\u001b[0m\u001b[1;33m,\u001b[0m\u001b[0m_\u001b[0m\u001b[1;33m=\u001b[0m\u001b[0mtrain\u001b[0m\u001b[1;33m(\u001b[0m\u001b[0mcurr_inp\u001b[0m\u001b[1;33m,\u001b[0m\u001b[0mcurr_tgt\u001b[0m\u001b[1;33m)\u001b[0m\u001b[1;33m\u001b[0m\u001b[0m\n\u001b[0m\u001b[0;32m     16\u001b[0m             \u001b[0mcost\u001b[0m \u001b[1;33m+=\u001b[0m \u001b[0mc\u001b[0m\u001b[1;33m\u001b[0m\u001b[0m\n\u001b[0;32m     17\u001b[0m         \u001b[1;32mexcept\u001b[0m \u001b[0mIndexError\u001b[0m\u001b[1;33m:\u001b[0m\u001b[1;33m\u001b[0m\u001b[0m\n",
      "\u001b[1;32m/usr/local/lib/python2.7/dist-packages/theano/compile/function_module.pyc\u001b[0m in \u001b[0;36m__call__\u001b[1;34m(self, *args, **kwargs)\u001b[0m\n\u001b[0;32m    857\u001b[0m         \u001b[0mt0_fn\u001b[0m \u001b[1;33m=\u001b[0m \u001b[0mtime\u001b[0m\u001b[1;33m.\u001b[0m\u001b[0mtime\u001b[0m\u001b[1;33m(\u001b[0m\u001b[1;33m)\u001b[0m\u001b[1;33m\u001b[0m\u001b[0m\n\u001b[0;32m    858\u001b[0m         \u001b[1;32mtry\u001b[0m\u001b[1;33m:\u001b[0m\u001b[1;33m\u001b[0m\u001b[0m\n\u001b[1;32m--> 859\u001b[1;33m             \u001b[0moutputs\u001b[0m \u001b[1;33m=\u001b[0m \u001b[0mself\u001b[0m\u001b[1;33m.\u001b[0m\u001b[0mfn\u001b[0m\u001b[1;33m(\u001b[0m\u001b[1;33m)\u001b[0m\u001b[1;33m\u001b[0m\u001b[0m\n\u001b[0m\u001b[0;32m    860\u001b[0m         \u001b[1;32mexcept\u001b[0m \u001b[0mException\u001b[0m\u001b[1;33m:\u001b[0m\u001b[1;33m\u001b[0m\u001b[0m\n\u001b[0;32m    861\u001b[0m             \u001b[1;32mif\u001b[0m \u001b[0mhasattr\u001b[0m\u001b[1;33m(\u001b[0m\u001b[0mself\u001b[0m\u001b[1;33m.\u001b[0m\u001b[0mfn\u001b[0m\u001b[1;33m,\u001b[0m \u001b[1;34m'position_of_error'\u001b[0m\u001b[1;33m)\u001b[0m\u001b[1;33m:\u001b[0m\u001b[1;33m\u001b[0m\u001b[0m\n",
      "\u001b[1;32m/usr/local/lib/python2.7/dist-packages/theano/scan_module/scan_op.pyc\u001b[0m in \u001b[0;36mrval\u001b[1;34m(p, i, o, n, allow_gc)\u001b[0m\n\u001b[0;32m    949\u001b[0m         def rval(p=p, i=node_input_storage, o=node_output_storage, n=node,\n\u001b[0;32m    950\u001b[0m                  allow_gc=allow_gc):\n\u001b[1;32m--> 951\u001b[1;33m             \u001b[0mr\u001b[0m \u001b[1;33m=\u001b[0m \u001b[0mp\u001b[0m\u001b[1;33m(\u001b[0m\u001b[0mn\u001b[0m\u001b[1;33m,\u001b[0m \u001b[1;33m[\u001b[0m\u001b[0mx\u001b[0m\u001b[1;33m[\u001b[0m\u001b[1;36m0\u001b[0m\u001b[1;33m]\u001b[0m \u001b[1;32mfor\u001b[0m \u001b[0mx\u001b[0m \u001b[1;32min\u001b[0m \u001b[0mi\u001b[0m\u001b[1;33m]\u001b[0m\u001b[1;33m,\u001b[0m \u001b[0mo\u001b[0m\u001b[1;33m)\u001b[0m\u001b[1;33m\u001b[0m\u001b[0m\n\u001b[0m\u001b[0;32m    952\u001b[0m             \u001b[1;32mfor\u001b[0m \u001b[0mo\u001b[0m \u001b[1;32min\u001b[0m \u001b[0mnode\u001b[0m\u001b[1;33m.\u001b[0m\u001b[0moutputs\u001b[0m\u001b[1;33m:\u001b[0m\u001b[1;33m\u001b[0m\u001b[0m\n\u001b[0;32m    953\u001b[0m                 \u001b[0mcompute_map\u001b[0m\u001b[1;33m[\u001b[0m\u001b[0mo\u001b[0m\u001b[1;33m]\u001b[0m\u001b[1;33m[\u001b[0m\u001b[1;36m0\u001b[0m\u001b[1;33m]\u001b[0m \u001b[1;33m=\u001b[0m \u001b[0mTrue\u001b[0m\u001b[1;33m\u001b[0m\u001b[0m\n",
      "\u001b[1;32m/usr/local/lib/python2.7/dist-packages/theano/scan_module/scan_op.pyc\u001b[0m in \u001b[0;36m<lambda>\u001b[1;34m(node, args, outs)\u001b[0m\n\u001b[0;32m    938\u001b[0m                         \u001b[0margs\u001b[0m\u001b[1;33m,\u001b[0m\u001b[1;33m\u001b[0m\u001b[0m\n\u001b[0;32m    939\u001b[0m                         \u001b[0mouts\u001b[0m\u001b[1;33m,\u001b[0m\u001b[1;33m\u001b[0m\u001b[0m\n\u001b[1;32m--> 940\u001b[1;33m                         self, node)\n\u001b[0m\u001b[0;32m    941\u001b[0m         \u001b[1;32mexcept\u001b[0m \u001b[1;33m(\u001b[0m\u001b[0mImportError\u001b[0m\u001b[1;33m,\u001b[0m \u001b[0mtheano\u001b[0m\u001b[1;33m.\u001b[0m\u001b[0mgof\u001b[0m\u001b[1;33m.\u001b[0m\u001b[0mcmodule\u001b[0m\u001b[1;33m.\u001b[0m\u001b[0mMissingGXX\u001b[0m\u001b[1;33m)\u001b[0m\u001b[1;33m:\u001b[0m\u001b[1;33m\u001b[0m\u001b[0m\n\u001b[0;32m    942\u001b[0m             \u001b[0mp\u001b[0m \u001b[1;33m=\u001b[0m \u001b[0mself\u001b[0m\u001b[1;33m.\u001b[0m\u001b[0mexecute\u001b[0m\u001b[1;33m\u001b[0m\u001b[0m\n",
      "\u001b[1;32mtheano/scan_module/scan_perform.pyx\u001b[0m in \u001b[0;36mtheano.scan_module.scan_perform.perform (/home/anirban/.theano/compiledir_Linux-3.16--generic-x86_64-with-Ubuntu-14.04-trusty-x86_64-2.7.6-64/scan_perform/mod.cpp:6635)\u001b[1;34m()\u001b[0m\n",
      "\u001b[1;32m/usr/local/lib/python2.7/dist-packages/theano/tensor/type.pyc\u001b[0m in \u001b[0;36mvalue_zeros\u001b[1;34m(self, shape)\u001b[0m\n\u001b[0;32m    627\u001b[0m             \u001b[1;32mreturn\u001b[0m \u001b[1;33m(\u001b[0m\u001b[1;33m)\u001b[0m\u001b[1;33m\u001b[0m\u001b[0m\n\u001b[0;32m    628\u001b[0m \u001b[1;33m\u001b[0m\u001b[0m\n\u001b[1;32m--> 629\u001b[1;33m     \u001b[1;32mdef\u001b[0m \u001b[0mvalue_zeros\u001b[0m\u001b[1;33m(\u001b[0m\u001b[0mself\u001b[0m\u001b[1;33m,\u001b[0m \u001b[0mshape\u001b[0m\u001b[1;33m)\u001b[0m\u001b[1;33m:\u001b[0m\u001b[1;33m\u001b[0m\u001b[0m\n\u001b[0m\u001b[0;32m    630\u001b[0m         \"\"\"\n\u001b[0;32m    631\u001b[0m         \u001b[0mCreate\u001b[0m \u001b[0man\u001b[0m \u001b[0mnumpy\u001b[0m \u001b[0mndarray\u001b[0m \u001b[0mfull\u001b[0m \u001b[0mof\u001b[0m \u001b[1;36m0\u001b[0m \u001b[0mvalues\u001b[0m\u001b[1;33m.\u001b[0m\u001b[1;33m\u001b[0m\u001b[0m\n",
      "\u001b[1;31mKeyboardInterrupt\u001b[0m: "
     ]
    }
   ],
   "source": [
    "num_epochs = 1000\n",
    "num_training_samples = len(inp1)\n",
    "for epoch in range(num_epochs):\n",
    "    t = time()\n",
    "    cost = 0\n",
    "    failures = []\n",
    "    for i in range(num_training_samples):\n",
    "        curr_inp = inp1[i]\n",
    "#         curr_msk = msk[i].astype(np.bool)\n",
    "#         curr_inp = curr_inp[curr_msk]\n",
    "        curr_inp = np.asarray([curr_inp],dtype=theano.config.floatX)\n",
    "        curr_tgt = np.asarray(tgt[i],dtype=np.int16)\n",
    "        curr_tgt = np.asarray([curr_tgt])\n",
    "        try:\n",
    "            _,_,c,_=train(curr_inp,curr_tgt)\n",
    "            cost += c\n",
    "        except IndexError:\n",
    "            failures.append(i)\n",
    "            print 'Current input seq: ', curr_inp\n",
    "            print 'Current output seq: ', curr_tgt\n",
    "            sys.exit(IndexError)\n",
    "    print 'Epoch: ', epoch, 'Cost: ', float(cost/(num_training_samples-len(failures))), ', time taken =', time()-t\n",
    "#     print 'Exceptions: ', len(failures), 'Total examples: ', num_training_samples\n",
    "    if epoch%10==0:        \n",
    "        #Save the model\n",
    "        np.savez('CTC_model.npz', *get_all_param_values(l_out_softmax_reshaped, trainable=True))\n",
    "        for i in range(2):\n",
    "            curr_inp = inp1[i]\n",
    "            curr_inp = np.asarray([curr_inp],dtype=theano.config.floatX)\n",
    "            curr_tgt = np.asarray(tgt[i],dtype=np.int16)\n",
    "            curr_out = output_softmax.eval({l_in.input_var:curr_inp})\n",
    "            print 'Predicted:', index2char_TIMIT(np.argmax(curr_out, axis=2)[0])\n",
    "            print 'Target:', index2char_TIMIT(curr_tgt)\n"
   ]
  },
  {
   "cell_type": "code",
   "execution_count": null,
   "metadata": {
    "collapsed": false
   },
   "outputs": [],
   "source": [
    "# num_epochs = 100\n",
    "# num_training_samples = len(inp)\n",
    "# for epoch in range(num_epochs):\n",
    "#     t = time()\n",
    "#     cost = 0\n",
    "#     for i in range(num_training_samples):\n",
    "#         curr_inp = inp[i].astype(theano.config.floatX)\n",
    "#         curr_msk = msk[i].astype(np.bool)\n",
    "#         curr_inp = curr_inp[curr_msk]\n",
    "#         curr_inp = np.asarray([curr_inp])\n",
    "#         curr_tgt = np.asarray(tgt[i],dtype=np.int16)\n",
    "#         curr_tgt = np.asarray([curr_tgt])\n",
    "#         _,_,c,_=train(curr_inp,curr_tgt)\n",
    "#         cost += c\n",
    "#     print float(cost/num_training_samples), ', time taken =', time()-t"
   ]
  },
  {
   "cell_type": "code",
   "execution_count": null,
   "metadata": {
    "collapsed": false
   },
   "outputs": [],
   "source": [
    "print input_size"
   ]
  }
 ],
 "metadata": {
  "kernelspec": {
   "display_name": "Python 2",
   "language": "python",
   "name": "python2"
  },
  "language_info": {
   "codemirror_mode": {
    "name": "ipython",
    "version": 2
   },
   "file_extension": ".py",
   "mimetype": "text/x-python",
   "name": "python",
   "nbconvert_exporter": "python",
   "pygments_lexer": "ipython2",
   "version": "2.7.6"
  }
 },
 "nbformat": 4,
 "nbformat_minor": 0
}
