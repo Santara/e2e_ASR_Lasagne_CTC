{
 "cells": [
  {
   "cell_type": "markdown",
   "metadata": {},
   "source": [
    "Imports\n",
    "======"
   ]
  },
  {
   "cell_type": "code",
   "execution_count": 19,
   "metadata": {
    "collapsed": false
   },
   "outputs": [],
   "source": [
    "import pickle as pkl\n",
    "import numpy as np\n",
    "import theano\n",
    "import theano.tensor as T\n",
    "import lasagne \n",
    "from lasagne.layers import InputLayer, DenseLayer, RecurrentLayer, NonlinearityLayer, ReshapeLayer, get_output, get_all_params\n",
    "import ctc_cost\n",
    "from time import time\n",
    "from TIMIT_utils import index2char_TIMIT\n",
    "import sys\n"
   ]
  },
  {
   "cell_type": "markdown",
   "metadata": {},
   "source": [
    "load data\n",
    "===="
   ]
  },
  {
   "cell_type": "code",
   "execution_count": 20,
   "metadata": {
    "collapsed": false
   },
   "outputs": [],
   "source": [
    "f = open('TIMIT_data_prepared_for_CTC.pkl','rb')\n",
    "data = pkl.load(f)\n",
    "inp = data['x']\n",
    "inp1 = data['inputs']\n",
    "msk = data['mask']\n",
    "tgt = data['y_indices']\n",
    "char = data['chars']"
   ]
  },
  {
   "cell_type": "markdown",
   "metadata": {},
   "source": [
    "build the network\n",
    "==="
   ]
  },
  {
   "cell_type": "code",
   "execution_count": 21,
   "metadata": {
    "collapsed": true
   },
   "outputs": [],
   "source": [
    "input_size = len(inp1[0][0])\n",
    "hidden_size = 10\n",
    "num_output_classes = len(char)\n",
    "learning_rate = 0.01\n",
    "output_size = num_output_classes+1\n",
    "batch_size = None\n",
    "input_seq_length = None"
   ]
  },
  {
   "cell_type": "code",
   "execution_count": 22,
   "metadata": {
    "collapsed": true
   },
   "outputs": [],
   "source": [
    "# x = T.dtensor3('inputs') #Change this to ftensor3 when floatX=float32\n",
    "y = T.imatrix('targets')"
   ]
  },
  {
   "cell_type": "code",
   "execution_count": 23,
   "metadata": {
    "collapsed": false
   },
   "outputs": [],
   "source": [
    "l_in = InputLayer(shape=(batch_size, input_seq_length, input_size))\n",
    "n_batch, n_time_steps, n_features = l_in.input_var.shape #Unnecessary in this version. Just collecting the info so that we can reshape the output back to the original shape\n",
    "l_rec = RecurrentLayer(l_in, num_units=hidden_size)\n",
    "l_rec_reshaped = ReshapeLayer(l_rec, (-1,hidden_size))\n",
    "l_out = DenseLayer(l_rec_reshaped, num_units=output_size)\n",
    "l_out_reshaped = ReshapeLayer(l_out, (n_batch, n_time_steps, output_size))#Reshaping back\n",
    "l_out_softmax = NonlinearityLayer(l_out, nonlinearity=lasagne.nonlinearities.softmax)\n",
    "l_out_softmax_reshaped = ReshapeLayer(l_out_softmax, (n_batch, n_time_steps, output_size))"
   ]
  },
  {
   "cell_type": "code",
   "execution_count": 24,
   "metadata": {
    "collapsed": false
   },
   "outputs": [],
   "source": [
    "output_logits = get_output(l_out_reshaped)\n",
    "output_softmax = get_output(l_out_softmax_reshaped)\n"
   ]
  },
  {
   "cell_type": "code",
   "execution_count": 25,
   "metadata": {
    "collapsed": false
   },
   "outputs": [
    {
     "name": "stdout",
     "output_type": "stream",
     "text": [
      "[W, b, W, W, b]\n"
     ]
    }
   ],
   "source": [
    "all_params = get_all_params(l_out,trainable=True)\n",
    "print all_params"
   ]
  },
  {
   "cell_type": "code",
   "execution_count": 26,
   "metadata": {
    "collapsed": true
   },
   "outputs": [],
   "source": [
    "pseudo_cost = ctc_cost.pseudo_cost(y, output_logits)"
   ]
  },
  {
   "cell_type": "code",
   "execution_count": 27,
   "metadata": {
    "collapsed": true
   },
   "outputs": [],
   "source": [
    "pseudo_cost_grad = T.grad(pseudo_cost.sum() / n_batch, all_params)"
   ]
  },
  {
   "cell_type": "code",
   "execution_count": 28,
   "metadata": {
    "collapsed": true
   },
   "outputs": [],
   "source": [
    "#Disputed area, does not compile >_<\n",
    "true_cost = ctc_cost.cost(y, output_softmax)\n",
    "cost = T.mean(true_cost)"
   ]
  },
  {
   "cell_type": "code",
   "execution_count": 29,
   "metadata": {
    "collapsed": false
   },
   "outputs": [],
   "source": [
    "# theano.printing.pydotprint(output_logits, outfile=\"./compute_graph.png\", var_with_name_simple=True)  \n",
    "# theano.printing.debugprint(output_logits) "
   ]
  },
  {
   "cell_type": "code",
   "execution_count": 30,
   "metadata": {
    "collapsed": true
   },
   "outputs": [],
   "source": [
    "\n",
    "shared_learning_rate = theano.shared(lasagne.utils.floatX(0.01))\n",
    "updates = lasagne.updates.rmsprop(pseudo_cost_grad, all_params, learning_rate=learning_rate)"
   ]
  },
  {
   "cell_type": "code",
   "execution_count": 31,
   "metadata": {
    "collapsed": false
   },
   "outputs": [],
   "source": [
    "theano.config.exception_verbosity='high'\n",
    "train = theano.function([l_in.input_var,y], [output_logits, output_softmax, cost, pseudo_cost], updates=updates)\n",
    "# train = theano.function([l_in.input_var,y], [output_logits, output_softmax, cost, pseudo_cost], updates=updates)"
   ]
  },
  {
   "cell_type": "code",
   "execution_count": 32,
   "metadata": {
    "collapsed": false
   },
   "outputs": [],
   "source": [
    "# inp0 = inp1[0]#.astype(theano.config.floatX)\n",
    "# # msk0 = msk[0].astype(np.bool)\n",
    "# # inp0 = inp0[msk0]\n",
    "# inp00= np.asarray([inp0],dtype=theano.config.floatX)\n",
    "# tgt0 = np.asarray(tgt[0],dtype=np.int16)\n",
    "# tgt00 = np.asarray([tgt0])\n",
    "# # inp00 = np.asarray([inp0[msk0]])\n",
    "# # print inp00.shape, msk0.shape, tgt00.shape\n",
    "# print inp00.shape, tgt00.shape"
   ]
  },
  {
   "cell_type": "code",
   "execution_count": 33,
   "metadata": {
    "collapsed": false
   },
   "outputs": [],
   "source": [
    "# a,b,c,d = train(inp00,tgt00)\n",
    "# print c\n",
    "# y_ = output_softmax.eval({l_in.input_var:inp00})\n"
   ]
  },
  {
   "cell_type": "code",
   "execution_count": null,
   "metadata": {
    "collapsed": false
   },
   "outputs": [],
   "source": [
    "# # y_.shape\n",
    "# print np.argmax(y_,axis=2)\n",
    "# from TIMIT_utils import index2char_TIMIT\n",
    "# print index2char_TIMIT(np.argmax(y_, axis=2)[0])\n",
    "# print index2char_TIMIT(tgt0)"
   ]
  },
  {
   "cell_type": "code",
   "execution_count": null,
   "metadata": {
    "collapsed": false
   },
   "outputs": [
    {
     "name": "stdout",
     "output_type": "stream",
     "text": [
      "158.463679211 , time taken = 71.1600618362\n",
      "Exceptions:  0 Total examples:  260\n",
      "Predicted: ____________________________________________________________________________________________________________________________________________________________________________________________________________________________________________________________________________\n",
      "Target: first add milk to the shredded cheese\n",
      "Predicted: _____________________________________________________________________________________________ ______________________________________________________________________ ______________________ _____________________________________________________________________________________________________________________ _____________________________c__ ________________________________________________________________________________________________________________________________________ ____________________________________________________________________________________\n",
      "Target: a concurrent effort is needed to make oceanographic data useful on the spot\n",
      "148.581038649 , time taken = 70.5993878841\n",
      "Exceptions:  0 Total examples:  260\n",
      "146.631007613 , time taken = 70.5865371227\n",
      "Exceptions:  0 Total examples:  260\n",
      "144.333069369 , time taken = 72.7882118225\n",
      "Exceptions:  0 Total examples:  260\n",
      "142.895245353 , time taken = 71.9083080292\n",
      "Exceptions:  0 Total examples:  260\n",
      "142.273383792 , time taken = 73.6572730541\n",
      "Exceptions:  0 Total examples:  260\n",
      "142.000793095 , time taken = 73.4098711014\n",
      "Exceptions:  0 Total examples:  260\n",
      "141.635384672 , time taken = 73.303016901\n",
      "Exceptions:  0 Total examples:  260\n",
      "141.334143663 , time taken = 73.5915989876\n",
      "Exceptions:  0 Total examples:  260\n",
      "141.264293846 , time taken = 72.2972259521\n",
      "Exceptions:  0 Total examples:  260\n",
      "141.373385933 , time taken = 72.8155097961\n",
      "Exceptions:  0 Total examples:  260\n",
      "Predicted: _____________________________________________sss______________________________________________________________________________________________________________________________________________________________________________s_____________________________________________\n",
      "Target: first add milk to the shredded cheese\n",
      "Predicted: _____________________________________________________________________________________________________________________________________________ss___________________________________________s______________________________________________________________________________________________________________________________________________________________________________________________________________________________________ss__________________________________________________________________________s__________________________________________________________________\n",
      "Target: a concurrent effort is needed to make oceanographic data useful on the spot\n",
      "140.620541949 , time taken = 75.1716468334\n",
      "Exceptions:  0 Total examples:  260\n",
      "140.62709574 , time taken = 74.4952030182\n",
      "Exceptions:  0 Total examples:  260\n",
      "140.319388555 , time taken = 75.2074799538\n",
      "Exceptions:  0 Total examples:  260\n",
      "140.259686825 , time taken = 74.9291551113\n",
      "Exceptions:  0 Total examples:  260\n",
      "140.222967958 , time taken = 73.4698269367\n",
      "Exceptions:  0 Total examples:  260\n",
      "140.108343357 , time taken = 72.8833448887\n",
      "Exceptions:  0 Total examples:  260\n",
      "139.901983057 , time taken = 72.4298219681\n",
      "Exceptions:  0 Total examples:  260\n",
      "139.744355317 , time taken = 73.6657269001\n",
      "Exceptions:  0 Total examples:  260\n",
      "139.508685533 , time taken = 74.5278480053\n",
      "Exceptions:  0 Total examples:  260\n",
      "139.635174643 , time taken = 74.539274931\n",
      "Exceptions:  0 Total examples:  260\n",
      "Predicted: ________________________ _______________rrrr__s_______________________________________________________________________________________________s___________________r__r_r________________ ___________________________________________________________________________________\n",
      "Target: first add milk to the shredded cheese\n",
      "Predicted: ____________s___________ ____________________ ________________________________________________________________________________________________________________________________________________ _______________________________ _________r_________________________rrr_____ _____rrr_r______________________r__r__s_______________________________________________________________________________________________________________s______________________________________________________________________________________________________________________________________________\n",
      "Target: a concurrent effort is needed to make oceanographic data useful on the spot\n",
      "140.136353093 , time taken = 74.1579830647\n",
      "Exceptions:  0 Total examples:  260\n",
      "140.358408155 , time taken = 73.8159270287\n",
      "Exceptions:  0 Total examples:  260\n",
      "140.098890259 , time taken = 73.9556779861\n",
      "Exceptions:  0 Total examples:  260\n",
      "140.038548672 , time taken = 73.6119570732\n",
      "Exceptions:  0 Total examples:  260\n",
      "139.768292221 , time taken = 71.8393218517\n",
      "Exceptions:  0 Total examples:  260\n",
      "139.860972126 , time taken = 72.3530609608\n",
      "Exceptions:  0 Total examples:  260\n",
      "139.606952571 , time taken = 72.2255690098\n",
      "Exceptions:  0 Total examples:  260\n",
      "140.128725848 , time taken = 72.3635339737\n",
      "Exceptions:  0 Total examples:  260\n",
      "139.861375949 , time taken = 72.1227579117\n",
      "Exceptions:  0 Total examples:  260\n",
      "140.7081592 , time taken = 71.7428381443\n",
      "Exceptions:  0 Total examples:  260\n",
      "Predicted: ________________________________________________s______________________________________________________________________________________________________________________r____________________________________________________________________________________________________\n",
      "Target: first add milk to the shredded cheese\n",
      "Predicted: ________________________ ________________n_____________________________________________a______________________________________________________s_______________n_______________________________________________________________ ________________________________________________rr_r______________________________________________________________________________________________________________________________________________s___________________________________________________________________________ss_______________ _________________________________________________\n",
      "Target: "
     ]
    }
   ],
   "source": [
    "num_epochs = 1000\n",
    "num_training_samples = len(inp1)\n",
    "for epoch in range(num_epochs):\n",
    "    t = time()\n",
    "    cost = 0\n",
    "    failures = []\n",
    "    for i in range(num_training_samples):\n",
    "        curr_inp = inp1[i]\n",
    "#         curr_msk = msk[i].astype(np.bool)\n",
    "#         curr_inp = curr_inp[curr_msk]\n",
    "        curr_inp = np.asarray([curr_inp],dtype=theano.config.floatX)\n",
    "        curr_tgt = np.asarray(tgt[i],dtype=np.int16)\n",
    "        curr_tgt = np.asarray([curr_tgt])\n",
    "        try:\n",
    "            _,_,c,_=train(curr_inp,curr_tgt)\n",
    "            cost += c\n",
    "        except IndexError:\n",
    "            failures.append(i)\n",
    "            print 'Current input seq: ', curr_inp\n",
    "            print 'Current output seq: ', curr_tgt\n",
    "            sys.exit(IndexError)\n",
    "    print float(cost/(num_training_samples-len(failures))), ', time taken =', time()-t\n",
    "    print 'Exceptions: ', len(failures), 'Total examples: ', num_training_samples\n",
    "    if epoch%10==0:        \n",
    "        for i in range(2):\n",
    "            curr_inp = inp1[i]\n",
    "            curr_inp = np.asarray([curr_inp],dtype=theano.config.floatX)\n",
    "            curr_tgt = np.asarray(tgt[i],dtype=np.int16)\n",
    "            curr_out = output_softmax.eval({l_in.input_var:curr_inp})\n",
    "            print 'Predicted:', index2char_TIMIT(np.argmax(curr_out, axis=2)[0])\n",
    "            print 'Target:', index2char_TIMIT(curr_tgt)\n"
   ]
  },
  {
   "cell_type": "code",
   "execution_count": null,
   "metadata": {
    "collapsed": false
   },
   "outputs": [],
   "source": [
    "# num_epochs = 100\n",
    "# num_training_samples = len(inp)\n",
    "# for epoch in range(num_epochs):\n",
    "#     t = time()\n",
    "#     cost = 0\n",
    "#     for i in range(num_training_samples):\n",
    "#         curr_inp = inp[i].astype(theano.config.floatX)\n",
    "#         curr_msk = msk[i].astype(np.bool)\n",
    "#         curr_inp = curr_inp[curr_msk]\n",
    "#         curr_inp = np.asarray([curr_inp])\n",
    "#         curr_tgt = np.asarray(tgt[i],dtype=np.int16)\n",
    "#         curr_tgt = np.asarray([curr_tgt])\n",
    "#         _,_,c,_=train(curr_inp,curr_tgt)\n",
    "#         cost += c\n",
    "#     print float(cost/num_training_samples), ', time taken =', time()-t"
   ]
  },
  {
   "cell_type": "code",
   "execution_count": null,
   "metadata": {
    "collapsed": false
   },
   "outputs": [],
   "source": [
    "print input_size"
   ]
  }
 ],
 "metadata": {
  "kernelspec": {
   "display_name": "Python 2",
   "language": "python",
   "name": "python2"
  },
  "language_info": {
   "codemirror_mode": {
    "name": "ipython",
    "version": 2
   },
   "file_extension": ".py",
   "mimetype": "text/x-python",
   "name": "python",
   "nbconvert_exporter": "python",
   "pygments_lexer": "ipython2",
   "version": "2.7.6"
  }
 },
 "nbformat": 4,
 "nbformat_minor": 0
}
