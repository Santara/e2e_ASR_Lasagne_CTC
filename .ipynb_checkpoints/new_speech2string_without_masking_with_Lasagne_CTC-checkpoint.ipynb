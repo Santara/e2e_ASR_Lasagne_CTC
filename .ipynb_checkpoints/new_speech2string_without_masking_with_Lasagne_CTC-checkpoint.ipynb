{
 "cells": [
  {
   "cell_type": "markdown",
   "metadata": {},
   "source": [
    "Imports\n",
    "======"
   ]
  },
  {
   "cell_type": "code",
   "execution_count": 76,
   "metadata": {
    "collapsed": true
   },
   "outputs": [],
   "source": [
    "import pickle as pkl\n",
    "import numpy as np\n",
    "import theano\n",
    "import theano.tensor as T\n",
    "import lasagne \n",
    "from lasagne.layers import InputLayer, DenseLayer, RecurrentLayer, NonlinearityLayer, ReshapeLayer, get_output, get_all_params\n",
    "import ctc_cost\n",
    "from time import time\n",
    "from TIMIT_utils import index2char_TIMIT\n",
    "import sys"
   ]
  },
  {
   "cell_type": "markdown",
   "metadata": {},
   "source": [
    "load data\n",
    "===="
   ]
  },
  {
   "cell_type": "code",
   "execution_count": 77,
   "metadata": {
    "collapsed": false
   },
   "outputs": [],
   "source": [
    "f = open('TIMIT_data_prepared_for_CTC.pkl','rb')\n",
    "data = pkl.load(f)\n",
    "inp = data['x']\n",
    "inp1 = data['inputs']\n",
    "msk = data['mask']\n",
    "tgt = data['y_indices']"
   ]
  },
  {
   "cell_type": "markdown",
   "metadata": {},
   "source": [
    "build the network\n",
    "==="
   ]
  },
  {
   "cell_type": "code",
   "execution_count": 78,
   "metadata": {
    "collapsed": true
   },
   "outputs": [],
   "source": [
    "input_size = 13\n",
    "hidden_size = 10\n",
    "num_output_classes = 26\n",
    "learning_rate = 0.01\n",
    "output_size = num_output_classes+1\n",
    "batch_size = None\n",
    "input_seq_length = None"
   ]
  },
  {
   "cell_type": "code",
   "execution_count": 79,
   "metadata": {
    "collapsed": true
   },
   "outputs": [],
   "source": [
    "# x = T.dtensor3('inputs') #Change this to ftensor3 when floatX=float32\n",
    "y = T.imatrix('targets')"
   ]
  },
  {
   "cell_type": "code",
   "execution_count": 80,
   "metadata": {
    "collapsed": false
   },
   "outputs": [],
   "source": [
    "l_in = InputLayer(shape=(batch_size, input_seq_length, input_size))\n",
    "n_batch, n_time_steps, n_features = l_in.input_var.shape #Unnecessary in this version. Just collecting the info so that we can reshape the output back to the original shape\n",
    "l_rec = RecurrentLayer(l_in, num_units=hidden_size)\n",
    "l_rec_reshaped = ReshapeLayer(l_rec, (-1,hidden_size))\n",
    "l_out = DenseLayer(l_rec_reshaped, num_units=output_size)\n",
    "l_out_reshaped = ReshapeLayer(l_out, (n_batch, n_time_steps, output_size))#Reshaping back\n",
    "l_out_softmax = NonlinearityLayer(l_out, nonlinearity=lasagne.nonlinearities.softmax)\n",
    "l_out_softmax_reshaped = ReshapeLayer(l_out_softmax, (n_batch, n_time_steps, output_size))"
   ]
  },
  {
   "cell_type": "code",
   "execution_count": 81,
   "metadata": {
    "collapsed": false
   },
   "outputs": [],
   "source": [
    "output_logits = get_output(l_out_reshaped)\n",
    "output_softmax = get_output(l_out_softmax_reshaped)\n"
   ]
  },
  {
   "cell_type": "code",
   "execution_count": 82,
   "metadata": {
    "collapsed": false
   },
   "outputs": [
    {
     "name": "stdout",
     "output_type": "stream",
     "text": [
      "[W, b, W, W, b]\n"
     ]
    }
   ],
   "source": [
    "all_params = get_all_params(l_out,trainable=True)\n",
    "print all_params"
   ]
  },
  {
   "cell_type": "code",
   "execution_count": 83,
   "metadata": {
    "collapsed": true
   },
   "outputs": [],
   "source": [
    "pseudo_cost = ctc_cost.pseudo_cost(y, output_logits)"
   ]
  },
  {
   "cell_type": "code",
   "execution_count": 84,
   "metadata": {
    "collapsed": true
   },
   "outputs": [],
   "source": [
    "pseudo_cost_grad = T.grad(pseudo_cost.sum() / n_batch, all_params)"
   ]
  },
  {
   "cell_type": "code",
   "execution_count": 85,
   "metadata": {
    "collapsed": true
   },
   "outputs": [],
   "source": [
    "#Disputed area, does not compile >_<\n",
    "true_cost = ctc_cost.cost(y, output_softmax)\n",
    "cost = T.mean(true_cost)"
   ]
  },
  {
   "cell_type": "code",
   "execution_count": 86,
   "metadata": {
    "collapsed": false
   },
   "outputs": [],
   "source": [
    "# theano.printing.pydotprint(output_logits, outfile=\"./compute_graph.png\", var_with_name_simple=True)  \n",
    "# theano.printing.debugprint(output_logits) "
   ]
  },
  {
   "cell_type": "code",
   "execution_count": 87,
   "metadata": {
    "collapsed": true
   },
   "outputs": [],
   "source": [
    "\n",
    "shared_learning_rate = theano.shared(lasagne.utils.floatX(0.01))\n",
    "updates = lasagne.updates.rmsprop(pseudo_cost_grad, all_params, learning_rate=learning_rate)"
   ]
  },
  {
   "cell_type": "code",
   "execution_count": 88,
   "metadata": {
    "collapsed": false
   },
   "outputs": [],
   "source": [
    "theano.config.exception_verbosity='high'\n",
    "train = theano.function([l_in.input_var,y], [output_logits, output_softmax, cost, pseudo_cost], updates=updates)\n",
    "# train = theano.function([l_in.input_var,y], [output_logits, output_softmax, cost, pseudo_cost], updates=updates)"
   ]
  },
  {
   "cell_type": "code",
   "execution_count": 89,
   "metadata": {
    "collapsed": false
   },
   "outputs": [],
   "source": [
    "# inp0 = inp1[0]#.astype(theano.config.floatX)\n",
    "# # msk0 = msk[0].astype(np.bool)\n",
    "# # inp0 = inp0[msk0]\n",
    "# inp00= np.asarray([inp0],dtype=theano.config.floatX)\n",
    "# tgt0 = np.asarray(tgt[0],dtype=np.int16)\n",
    "# tgt00 = np.asarray([tgt0])\n",
    "# # inp00 = np.asarray([inp0[msk0]])\n",
    "# # print inp00.shape, msk0.shape, tgt00.shape\n",
    "# print inp00.shape, tgt00.shape"
   ]
  },
  {
   "cell_type": "code",
   "execution_count": 90,
   "metadata": {
    "collapsed": false
   },
   "outputs": [],
   "source": [
    "# a,b,c,d = train(inp00,tgt00)\n",
    "# print c\n",
    "# y_ = output_softmax.eval({l_in.input_var:inp00})\n"
   ]
  },
  {
   "cell_type": "code",
   "execution_count": 91,
   "metadata": {
    "collapsed": false
   },
   "outputs": [],
   "source": [
    "# # y_.shape\n",
    "# print np.argmax(y_,axis=2)\n",
    "# from TIMIT_utils import index2char_TIMIT\n",
    "# print index2char_TIMIT(np.argmax(y_, axis=2)[0])\n",
    "# print index2char_TIMIT(tgt0)"
   ]
  },
  {
   "cell_type": "code",
   "execution_count": 92,
   "metadata": {
    "collapsed": false
   },
   "outputs": [
    {
     "name": "stdout",
     "output_type": "stream",
     "text": [
      "258.459260095 , time taken = 2.89819383621\n",
      "Exceptions:  0 Total examples:  10\n",
      "Predicted: ##############                                   ###########                               ##                                                                                                             ####                             #   ##   ######\n",
      "Target: don't ask me to carry an oily rag like that\n",
      "Predicted:   ###########                                                                          ##                                                           ##                                 ######                                                                                   ##\n",
      "Target: ran away on a black night with a lawful wedded man\n",
      "180.497171839 , time taken = 2.90374302864\n",
      "Exceptions:  0 Total examples:  10\n",
      "168.708318673 , time taken = 2.90743303299\n",
      "Exceptions:  0 Total examples:  10\n",
      "166.411135537 , time taken = 2.92308688164\n",
      "Exceptions:  0 Total examples:  10\n",
      "165.106211857 , time taken = 2.91509890556\n",
      "Exceptions:  0 Total examples:  10\n",
      "160.933104217 , time taken = 2.92137789726\n",
      "Exceptions:  0 Total examples:  10\n",
      "158.795850608 , time taken = 2.93892884254\n",
      "Exceptions:  0 Total examples:  10\n",
      "156.348152727 , time taken = 2.90689706802\n",
      "Exceptions:  0 Total examples:  10\n",
      "154.972060393 , time taken = 2.93858194351\n",
      "Exceptions:  0 Total examples:  10\n",
      "161.638770311 , time taken = 2.89325904846\n",
      "Exceptions:  0 Total examples:  10\n",
      "152.884991145 , time taken = 2.88941788673\n",
      "Exceptions:  0 Total examples:  10\n",
      "Predicted: ##############                                    ##########                           ##                                                                                                                 #####                                ##    #####\n",
      "Target: don't ask me to carry an oily rag like that\n",
      "Predicted: #############                                                                                                 #                                                                         #####                                                                            #########\n",
      "Target: ran away on a black night with a lawful wedded man\n",
      "152.121216438 , time taken = 2.88334107399\n",
      "Exceptions:  0 Total examples:  10\n",
      "152.835619482 , time taken = 2.92477703094\n",
      "Exceptions:  0 Total examples:  10\n",
      "151.214450068 , time taken = 2.88967299461\n",
      "Exceptions:  0 Total examples:  10\n",
      "149.57451804 , time taken = 2.90887999535\n",
      "Exceptions:  0 Total examples:  10\n",
      "153.653667394 , time taken = 2.94466710091\n",
      "Exceptions:  0 Total examples:  10\n",
      "148.845200808 , time taken = 2.89491605759\n",
      "Exceptions:  0 Total examples:  10\n",
      "149.059737747 , time taken = 2.91125011444\n",
      "Exceptions:  0 Total examples:  10\n",
      "150.692423017 , time taken = 2.92565202713\n",
      "Exceptions:  0 Total examples:  10\n",
      "147.230159889 , time taken = 2.89985799789\n",
      "Exceptions:  0 Total examples:  10\n",
      "149.790803122 , time taken = 2.97950410843\n",
      "Exceptions:  0 Total examples:  10\n",
      "Predicted: ##############                                    ##########                            #                                                                                                               t i####                              ####    #####\n",
      "Target: don't ask me to carry an oily rag like that\n",
      "Predicted: #############                                                                                               aa#                                                                         #####                                                         l###                ########\n",
      "Target: ran away on a black night with a lawful wedded man\n",
      "147.416992627 , time taken = 2.94241499901\n",
      "Exceptions:  0 Total examples:  10\n",
      "145.234461336 , time taken = 2.85192489624\n",
      "Exceptions:  0 Total examples:  10\n",
      "146.059320955 , time taken = 2.96206998825\n",
      "Exceptions:  0 Total examples:  10\n",
      "154.147981185 , time taken = 2.8374311924\n",
      "Exceptions:  0 Total examples:  10\n",
      "145.481705431 , time taken = 2.84215211868\n",
      "Exceptions:  0 Total examples:  10\n",
      "144.809976567 , time taken = 2.84310102463\n",
      "Exceptions:  0 Total examples:  10\n",
      "145.455775912 , time taken = 2.81734490395\n",
      "Exceptions:  0 Total examples:  10\n",
      "144.29377492 , time taken = 2.81364417076\n",
      "Exceptions:  0 Total examples:  10\n",
      "145.04478266 , time taken = 2.81102800369\n",
      "Exceptions:  0 Total examples:  10\n",
      "144.227252934 , time taken = 2.84445118904\n",
      "Exceptions:  0 Total examples:  10\n",
      "Predicted: #####n########i                                  ###########e                       iiii#iiii                                                                                                           t#####i                            l#####i   #####\n",
      "Target: don't ask me to carry an oily rag like that\n",
      "Predicted: #############                                                                           #                                                           t####                              t#####                                                        lli#              rinnn######\n",
      "Target: ran away on a black night with a lawful wedded man\n",
      "142.552259903 , time taken = 2.84968113899\n",
      "Exceptions:  0 Total examples:  10\n",
      "142.22892712 , time taken = 2.90827798843\n",
      "Exceptions:  0 Total examples:  10\n",
      "142.711292031 , time taken = 2.84694719315\n",
      "Exceptions:  0 Total examples:  10\n",
      "143.164217413 , time taken = 2.84375691414\n",
      "Exceptions:  0 Total examples:  10\n",
      "141.946513066 , time taken = 2.81525492668\n",
      "Exceptions:  0 Total examples:  10\n",
      "141.436319434 , time taken = 2.82094192505\n",
      "Exceptions:  0 Total examples:  10\n",
      "143.84223981 , time taken = 2.84399986267\n",
      "Exceptions:  0 Total examples:  10\n",
      "141.760996709 , time taken = 2.97114086151\n",
      "Exceptions:  0 Total examples:  10\n",
      "141.499782951 , time taken = 3.0418241024\n",
      "Exceptions:  0 Total examples:  10\n",
      "141.48498403 , time taken = 3.10509204865\n",
      "Exceptions:  0 Total examples:  10\n",
      "Predicted: #####n########                                    ########o#                            i                                                                                                               t i###i                            l#####i   #####\n",
      "Target: don't ask me to carry an oily rag like that\n",
      "Predicted: #############                                                                           t                 a l                                       ti                                  #####                                                        llaa                 nn######\n",
      "Target: ran away on a black night with a lawful wedded man\n",
      "141.076801305 , time taken = 2.94944787025\n",
      "Exceptions:  0 Total examples:  10\n",
      "142.602232453 , time taken = 3.01785802841\n",
      "Exceptions:  0 Total examples:  10\n",
      "139.805402534 , time taken = 2.85303092003\n",
      "Exceptions:  0 Total examples:  10\n",
      "139.328880284 , time taken = 2.86587786674\n",
      "Exceptions:  0 Total examples:  10\n",
      "141.429713527 , time taken = 2.81573319435\n",
      "Exceptions:  0 Total examples:  10\n",
      "138.950982825 , time taken = 2.84067702293\n",
      "Exceptions:  0 Total examples:  10\n",
      "141.925285417 , time taken = 2.83578085899\n",
      "Exceptions:  0 Total examples:  10\n",
      "139.432095279 , time taken = 2.85591006279\n",
      "Exceptions:  0 Total examples:  10\n",
      "139.502264244 , time taken = 2.82089686394\n",
      "Exceptions:  0 Total examples:  10\n",
      "140.41112148 , time taken = 2.83841896057\n",
      "Exceptions:  0 Total examples:  10\n",
      "Predicted: #####n########i                                  #########o#                          i##  ii                                                                                                           tii###r                            l#####i   #####\n",
      "Target: don't ask me to carry an oily rag like that\n",
      "Predicted: #############                                                                           #                aaal                                       ti# #                              t#####                                                        llaa                 nr######\n",
      "Target: ran away on a black night with a lawful wedded man\n",
      "138.576287559 , time taken = 2.82450890541\n",
      "Exceptions:  0 Total examples:  10\n",
      "142.013884353 , time taken = 2.85008811951\n",
      "Exceptions:  0 Total examples:  10\n",
      "138.339564496 , time taken = 2.96704816818\n",
      "Exceptions:  0 Total examples:  10\n",
      "138.12275286 , time taken = 2.97509217262\n",
      "Exceptions:  0 Total examples:  10\n",
      "138.84560804 , time taken = 2.98726201057\n",
      "Exceptions:  0 Total examples:  10\n",
      "138.54808542 , time taken = 2.8109588623\n",
      "Exceptions:  0 Total examples:  10\n",
      "137.783761174 , time taken = 2.90592384338\n",
      "Exceptions:  0 Total examples:  10\n",
      "137.367666774 , time taken = 2.85120487213\n",
      "Exceptions:  0 Total examples:  10\n",
      "138.554908488 , time taken = 2.8175599575\n",
      "Exceptions:  0 Total examples:  10\n",
      "136.815322274 , time taken = 2.99172997475\n",
      "Exceptions:  0 Total examples:  10\n",
      "Predicted: #####n########                                    ########o##                          ne                                                                                                               t i###r                               ###i   #####\n",
      "Target: don't ask me to carry an oily rag like that\n",
      "Predicted: #############e                                                                          t                                                            i                                   ####                                                         l                  nnr######\n",
      "Target: ran away on a black night with a lawful wedded man\n",
      "138.372953065 , time taken = 2.90275788307\n",
      "Exceptions:  0 Total examples:  10\n",
      "139.006558153 , time taken = 2.92648506165\n",
      "Exceptions:  0 Total examples:  10\n",
      "140.246126458 , time taken = 3.02438521385\n",
      "Exceptions:  0 Total examples:  10\n",
      "137.763161634 , time taken = 2.82939910889\n",
      "Exceptions:  0 Total examples:  10\n",
      "136.507611483 , time taken = 2.85025215149\n",
      "Exceptions:  0 Total examples:  10\n",
      "137.865877119 , time taken = 2.94253706932\n",
      "Exceptions:  0 Total examples:  10\n",
      "135.736772953 , time taken = 2.95710086823\n",
      "Exceptions:  0 Total examples:  10\n",
      "136.46642211 , time taken = 2.87655496597\n",
      "Exceptions:  0 Total examples:  10\n",
      "137.356940286 , time taken = 2.86938500404\n",
      "Exceptions:  0 Total examples:  10\n",
      "137.353787475 , time taken = 2.86208295822\n",
      "Exceptions:  0 Total examples:  10\n",
      "Predicted: ##############                                    ########o##                          ne                                                                                                               oie###r                            li ###e   #####\n",
      "Target: don't ask me to carry an oily rag like that\n",
      "Predicted: #############                                                                           o                    l                                      ti                                  #####                                                        llil              ii##r######\n",
      "Target: ran away on a black night with a lawful wedded man\n",
      "136.477545306 , time taken = 2.86351704597\n",
      "Exceptions:  0 Total examples:  10\n",
      "136.99730302 , time taken = 2.87187600136\n",
      "Exceptions:  0 Total examples:  10\n",
      "136.831872905 , time taken = 2.86307001114\n",
      "Exceptions:  0 Total examples:  10\n",
      "136.599494574 , time taken = 2.85350298882\n",
      "Exceptions:  0 Total examples:  10\n",
      "136.016835934 , time taken = 2.91378593445\n",
      "Exceptions:  0 Total examples:  10\n",
      "136.410255736 , time taken = 2.85409188271\n",
      "Exceptions:  0 Total examples:  10\n",
      "135.548965186 , time taken = 2.89204287529\n",
      "Exceptions:  0 Total examples:  10\n",
      "135.14436087 , time taken = 2.84489893913\n",
      "Exceptions:  0 Total examples:  10\n",
      "137.683304361 , time taken = 2.86237692833\n",
      "Exceptions:  0 Total examples:  10\n",
      "137.009178512 , time taken = 2.996986866\n",
      "Exceptions:  0 Total examples:  10\n",
      "Predicted: ##############                                   #########o##                        e re                                                                                                               ii####r                            li####e   #####\n",
      "Target: don't ask me to carry an oily rag like that\n",
      "Predicted: #############e                                                                          #               aaaal e                                     ti# #                               #####                                                        llie              ii nr######\n",
      "Target: ran away on a black night with a lawful wedded man\n",
      "135.30517703 , time taken = 2.89075708389\n",
      "Exceptions:  0 Total examples:  10\n",
      "135.649140188 , time taken = 2.92141318321\n",
      "Exceptions:  0 Total examples:  10\n",
      "139.976001702 , time taken = 2.99679303169\n",
      "Exceptions:  0 Total examples:  10\n",
      "136.061832496 , time taken = 2.94876289368\n",
      "Exceptions:  0 Total examples:  10\n",
      "134.701623725 , time taken = 2.93978905678\n",
      "Exceptions:  0 Total examples:  10\n",
      "134.519604519 , time taken = 2.86426711082\n",
      "Exceptions:  0 Total examples:  10\n",
      "137.165175019 , time taken = 2.95826196671\n",
      "Exceptions:  0 Total examples:  10\n",
      "135.499964018 , time taken = 2.89895796776\n",
      "Exceptions:  0 Total examples:  10\n",
      "135.599297651 , time taken = 2.88526296616\n",
      "Exceptions:  0 Total examples:  10\n",
      "134.22135712 , time taken = 2.88162112236\n",
      "Exceptions:  0 Total examples:  10\n",
      "Predicted: #####n####e#i                                    t#######io##                        e ne                                                                                                               iie###e                            li ###i   #####\n",
      "Target: don't ask me to carry an oily rag like that\n",
      "Predicted: #############e                                                                          t                aa   e                                     tit t                               #####                                                        llitt             nin#re#####\n",
      "Target: ran away on a black night with a lawful wedded man\n",
      "134.172824006 , time taken = 2.86420607567\n",
      "Exceptions:  0 Total examples:  10\n",
      "133.214514486 , time taken = 2.88191699982\n",
      "Exceptions:  0 Total examples:  10\n",
      "137.53845992 , time taken = 2.86856102943\n",
      "Exceptions:  0 Total examples:  10\n",
      "134.420719481 , time taken = 2.87772798538\n",
      "Exceptions:  0 Total examples:  10\n",
      "134.421736692 , time taken = 2.88374185562\n",
      "Exceptions:  0 Total examples:  10\n",
      "133.419922091 , time taken = 2.9004919529\n",
      "Exceptions:  0 Total examples:  10\n",
      "134.180239461 , time taken = 2.89357018471\n",
      "Exceptions:  0 Total examples:  10\n",
      "136.529911198 , time taken = 2.8720331192\n",
      "Exceptions:  0 Total examples:  10\n",
      "134.389253354 , time taken = 3.02369403839\n",
      "Exceptions:  0 Total examples:  10\n"
     ]
    }
   ],
   "source": [
    "num_epochs = 100\n",
    "num_training_samples = len(inp1)\n",
    "for epoch in range(num_epochs):\n",
    "    t = time()\n",
    "    cost = 0\n",
    "    failures = []\n",
    "    for i in range(num_training_samples):\n",
    "        curr_inp = inp1[i]\n",
    "#         curr_msk = msk[i].astype(np.bool)\n",
    "#         curr_inp = curr_inp[curr_msk]\n",
    "        curr_inp = np.asarray([curr_inp],dtype=theano.config.floatX)\n",
    "        curr_tgt = np.asarray(tgt[i],dtype=np.int16)\n",
    "        curr_tgt = np.asarray([curr_tgt])\n",
    "        try:\n",
    "            _,_,c,_=train(curr_inp,curr_tgt)\n",
    "            cost += c\n",
    "        except IndexError:\n",
    "            failures.append(i)\n",
    "            pass\n",
    "    print float(cost/(num_training_samples-len(failures))), ', time taken =', time()-t\n",
    "    print 'Exceptions: ', len(failures), 'Total examples: ', num_training_samples\n",
    "    if epoch%10==0:        \n",
    "        for i in range(2):\n",
    "            curr_inp = inp1[i]\n",
    "            curr_inp = np.asarray([curr_inp],dtype=theano.config.floatX)\n",
    "            curr_tgt = np.asarray(tgt[i],dtype=np.int16)\n",
    "            curr_out = output_softmax.eval({l_in.input_var:curr_inp})\n",
    "            print 'Predicted:', index2char_TIMIT(np.argmax(curr_out, axis=2)[0])\n",
    "            print 'Target:', index2char_TIMIT(curr_tgt)\n"
   ]
  },
  {
   "cell_type": "code",
   "execution_count": 93,
   "metadata": {
    "collapsed": false
   },
   "outputs": [],
   "source": [
    "# num_epochs = 100\n",
    "# num_training_samples = len(inp)\n",
    "# for epoch in range(num_epochs):\n",
    "#     t = time()\n",
    "#     cost = 0\n",
    "#     for i in range(num_training_samples):\n",
    "#         curr_inp = inp[i].astype(theano.config.floatX)\n",
    "#         curr_msk = msk[i].astype(np.bool)\n",
    "#         curr_inp = curr_inp[curr_msk]\n",
    "#         curr_inp = np.asarray([curr_inp])\n",
    "#         curr_tgt = np.asarray(tgt[i],dtype=np.int16)\n",
    "#         curr_tgt = np.asarray([curr_tgt])\n",
    "#         _,_,c,_=train(curr_inp,curr_tgt)\n",
    "#         cost += c\n",
    "#     print float(cost/num_training_samples), ', time taken =', time()-t"
   ]
  }
 ],
 "metadata": {
  "kernelspec": {
   "display_name": "Python 2",
   "language": "python",
   "name": "python2"
  },
  "language_info": {
   "codemirror_mode": {
    "name": "ipython",
    "version": 2
   },
   "file_extension": ".py",
   "mimetype": "text/x-python",
   "name": "python",
   "nbconvert_exporter": "python",
   "pygments_lexer": "ipython2",
   "version": "2.7.6"
  }
 },
 "nbformat": 4,
 "nbformat_minor": 0
}
