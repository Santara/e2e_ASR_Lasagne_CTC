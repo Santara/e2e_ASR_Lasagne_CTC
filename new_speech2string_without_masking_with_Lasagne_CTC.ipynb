{
 "cells": [
  {
   "cell_type": "markdown",
   "metadata": {},
   "source": [
    "Imports\n",
    "======"
   ]
  },
  {
   "cell_type": "code",
   "execution_count": 36,
   "metadata": {
    "collapsed": false
   },
   "outputs": [],
   "source": [
    "import pickle as pkl\n",
    "import numpy as np\n",
    "import theano\n",
    "import theano.tensor as T\n",
    "import lasagne \n",
    "from lasagne.layers import InputLayer, DenseLayer, RecurrentLayer, NonlinearityLayer, ReshapeLayer, get_output, get_all_params\n",
    "import ctc_cost\n",
    "from time import time\n",
    "from TIMIT_utils import index2char_TIMIT\n",
    "import sys\n"
   ]
  },
  {
   "cell_type": "markdown",
   "metadata": {},
   "source": [
    "load data\n",
    "===="
   ]
  },
  {
   "cell_type": "code",
   "execution_count": 37,
   "metadata": {
    "collapsed": false
   },
   "outputs": [],
   "source": [
    "f = open('TIMIT_data_prepared_for_CTC.pkl','rb')\n",
    "data = pkl.load(f)\n",
    "inp = data['x']\n",
    "inp1 = data['inputs']\n",
    "msk = data['mask']\n",
    "tgt = data['y_indices']\n",
    "char = data['chars']"
   ]
  },
  {
   "cell_type": "markdown",
   "metadata": {},
   "source": [
    "build the network\n",
    "==="
   ]
  },
  {
   "cell_type": "code",
   "execution_count": 38,
   "metadata": {
    "collapsed": true
   },
   "outputs": [],
   "source": [
    "input_size = len(inp1[0][0])\n",
    "hidden_size = 10\n",
    "num_output_classes = len(char)\n",
    "learning_rate = 0.01\n",
    "output_size = num_output_classes+1\n",
    "batch_size = None\n",
    "input_seq_length = None"
   ]
  },
  {
   "cell_type": "code",
   "execution_count": 39,
   "metadata": {
    "collapsed": true
   },
   "outputs": [],
   "source": [
    "# x = T.dtensor3('inputs') #Change this to ftensor3 when floatX=float32\n",
    "y = T.imatrix('targets')"
   ]
  },
  {
   "cell_type": "code",
   "execution_count": 40,
   "metadata": {
    "collapsed": false
   },
   "outputs": [],
   "source": [
    "l_in = InputLayer(shape=(batch_size, input_seq_length, input_size))\n",
    "n_batch, n_time_steps, n_features = l_in.input_var.shape #Unnecessary in this version. Just collecting the info so that we can reshape the output back to the original shape\n",
    "l_rec = RecurrentLayer(l_in, num_units=hidden_size)\n",
    "l_rec_reshaped = ReshapeLayer(l_rec, (-1,hidden_size))\n",
    "l_out = DenseLayer(l_rec_reshaped, num_units=output_size)\n",
    "l_out_reshaped = ReshapeLayer(l_out, (n_batch, n_time_steps, output_size))#Reshaping back\n",
    "l_out_softmax = NonlinearityLayer(l_out, nonlinearity=lasagne.nonlinearities.softmax)\n",
    "l_out_softmax_reshaped = ReshapeLayer(l_out_softmax, (n_batch, n_time_steps, output_size))"
   ]
  },
  {
   "cell_type": "code",
   "execution_count": 41,
   "metadata": {
    "collapsed": false
   },
   "outputs": [],
   "source": [
    "output_logits = get_output(l_out_reshaped)\n",
    "output_softmax = get_output(l_out_softmax_reshaped)\n"
   ]
  },
  {
   "cell_type": "code",
   "execution_count": 42,
   "metadata": {
    "collapsed": false
   },
   "outputs": [
    {
     "name": "stdout",
     "output_type": "stream",
     "text": [
      "[W, b, W, W, b]\n"
     ]
    }
   ],
   "source": [
    "all_params = get_all_params(l_out,trainable=True)\n",
    "print all_params"
   ]
  },
  {
   "cell_type": "code",
   "execution_count": 43,
   "metadata": {
    "collapsed": true
   },
   "outputs": [],
   "source": [
    "pseudo_cost = ctc_cost.pseudo_cost(y, output_logits)"
   ]
  },
  {
   "cell_type": "code",
   "execution_count": 44,
   "metadata": {
    "collapsed": true
   },
   "outputs": [],
   "source": [
    "pseudo_cost_grad = T.grad(pseudo_cost.sum() / n_batch, all_params)"
   ]
  },
  {
   "cell_type": "code",
   "execution_count": 45,
   "metadata": {
    "collapsed": true
   },
   "outputs": [],
   "source": [
    "#Disputed area, does not compile >_<\n",
    "true_cost = ctc_cost.cost(y, output_softmax)\n",
    "cost = T.mean(true_cost)"
   ]
  },
  {
   "cell_type": "code",
   "execution_count": 46,
   "metadata": {
    "collapsed": false
   },
   "outputs": [],
   "source": [
    "# theano.printing.pydotprint(output_logits, outfile=\"./compute_graph.png\", var_with_name_simple=True)  \n",
    "# theano.printing.debugprint(output_logits) "
   ]
  },
  {
   "cell_type": "code",
   "execution_count": 47,
   "metadata": {
    "collapsed": true
   },
   "outputs": [],
   "source": [
    "\n",
    "shared_learning_rate = theano.shared(lasagne.utils.floatX(0.01))\n",
    "updates = lasagne.updates.rmsprop(pseudo_cost_grad, all_params, learning_rate=learning_rate)"
   ]
  },
  {
   "cell_type": "code",
   "execution_count": 48,
   "metadata": {
    "collapsed": false
   },
   "outputs": [],
   "source": [
    "theano.config.exception_verbosity='high'\n",
    "train = theano.function([l_in.input_var,y], [output_logits, output_softmax, cost, pseudo_cost], updates=updates)\n",
    "# train = theano.function([l_in.input_var,y], [output_logits, output_softmax, cost, pseudo_cost], updates=updates)"
   ]
  },
  {
   "cell_type": "code",
   "execution_count": 49,
   "metadata": {
    "collapsed": false
   },
   "outputs": [],
   "source": [
    "# inp0 = inp1[0]#.astype(theano.config.floatX)\n",
    "# # msk0 = msk[0].astype(np.bool)\n",
    "# # inp0 = inp0[msk0]\n",
    "# inp00= np.asarray([inp0],dtype=theano.config.floatX)\n",
    "# tgt0 = np.asarray(tgt[0],dtype=np.int16)\n",
    "# tgt00 = np.asarray([tgt0])\n",
    "# # inp00 = np.asarray([inp0[msk0]])\n",
    "# # print inp00.shape, msk0.shape, tgt00.shape\n",
    "# print inp00.shape, tgt00.shape"
   ]
  },
  {
   "cell_type": "code",
   "execution_count": 50,
   "metadata": {
    "collapsed": false
   },
   "outputs": [],
   "source": [
    "# a,b,c,d = train(inp00,tgt00)\n",
    "# print c\n",
    "# y_ = output_softmax.eval({l_in.input_var:inp00})\n"
   ]
  },
  {
   "cell_type": "code",
   "execution_count": 51,
   "metadata": {
    "collapsed": false
   },
   "outputs": [],
   "source": [
    "# # y_.shape\n",
    "# print np.argmax(y_,axis=2)\n",
    "# from TIMIT_utils import index2char_TIMIT\n",
    "# print index2char_TIMIT(np.argmax(y_, axis=2)[0])\n",
    "# print index2char_TIMIT(tgt0)"
   ]
  },
  {
   "cell_type": "code",
   "execution_count": 53,
   "metadata": {
    "collapsed": false
   },
   "outputs": [
    {
     "name": "stdout",
     "output_type": "stream",
     "text": [
      "Epoch:  0 Cost:  inf , time taken = 71.8098900318\n",
      "Predicted: _____________________ _a                         ____                                                                         __                                                                                                 ___ _____________aa      a___a___a___    _ \n",
      "Target: first add milk to the shredded cheese\n",
      "Predicted: __________                                                                                    ___ ___                 ____________ _                __                                        ___    _                                                                                             _____              _                                                                            ________________                 ___________                                                                                                                _ _         _____\n",
      "Target: a concurrent effort is needed to make oceanographic data useful on the spot\n",
      "Epoch:  1 Cost:  180.897338379 , time taken = 74.9547550678\n",
      "Epoch:  2 Cost:  179.454066863 , time taken = 72.7854290009\n",
      "Epoch:  3 Cost:  181.369674548 , time taken = 70.8390228748\n",
      "Epoch:  4 Cost:  190.877832107 , time taken = 70.6932518482\n",
      "Epoch:  5 Cost:  177.114329602 , time taken = 70.6935760975\n",
      "Epoch:  6 Cost:  176.877280947 , time taken = 70.6165659428\n",
      "Epoch:  7 Cost:  inf , time taken = 70.8769907951\n",
      "Epoch:  8 Cost:  inf , time taken = 70.9005300999\n",
      "Epoch:  9 Cost:  175.272564516 , time taken = 70.932101965\n",
      "Epoch:  10 Cost:  172.795442085 , time taken = 70.7924418449\n",
      "Predicted: ________________________                        ___________                                                               _______                _______   __                              _______                              ____________________________________________\n",
      "Target: first add milk to the shredded cheese\n",
      "Predicted: __________               _                       ___ _                                         _______                  ____________            _______                                       ___________                                                ____                                      _____                                                          _____    ___  ____          _____________________                _____________                                                                  _____ ______                           __________    _________\n",
      "Target: a concurrent effort is needed to make oceanographic data useful on the spot\n",
      "Epoch:  11 Cost:  172.342098748 , time taken = 70.7562828064\n",
      "Epoch:  12 Cost:  172.287273835 , time taken = 70.7284059525\n",
      "Epoch:  13 Cost:  172.341002914 , time taken = 70.9037380219\n",
      "Epoch:  14 Cost:  172.48596187 , time taken = 70.8697969913\n",
      "Epoch:  15 Cost:  172.8534585 , time taken = 70.8210999966\n",
      "Epoch:  16 Cost:  172.899061743 , time taken = 70.8092520237\n",
      "Epoch:  17 Cost:  173.58138542 , time taken = 70.7349309921\n",
      "Epoch:  18 Cost:  inf , time taken = 70.7138078213\n",
      "Epoch:  19 Cost:  inf , time taken = 70.6187169552\n",
      "Epoch:  20 Cost:  inf , time taken = 70.6551501751\n",
      "Predicted: ____________________ ___                                                                                                                                                                                                               ___________________________ ___      \n",
      "Target: first add milk to the shredded cheese\n",
      "Predicted: __________                                                                                     _______                          ____ _        __________n                                                                                                   ____                                                  _n    n  _                                        ______________________________ ________________ n                                                                                                                                                 __________\n",
      "Target: a concurrent effort is needed to make oceanographic data useful on the spot\n",
      "Epoch:  21 Cost:  inf , time taken = 70.6744220257\n",
      "Epoch:  22 Cost:  inf , time taken = 70.7077898979\n",
      "Epoch:  23 Cost:  inf , time taken = 70.7869980335\n",
      "Epoch:  24 Cost:  inf , time taken = 70.8841619492\n",
      "Epoch:  25 Cost:  inf , time taken = 70.7244198322\n",
      "Epoch:  26 Cost:  inf , time taken = 70.7017591\n",
      "Epoch:  27 Cost:  197.49888931 , time taken = 71.2176170349\n",
      "Epoch:  28 Cost:  194.830330524 , time taken = 70.9502520561\n",
      "Epoch:  29 Cost:  266.35492902 , time taken = 71.0405640602\n",
      "Epoch:  30 Cost:  324.35900425 , time taken = 70.9170560837\n",
      "Predicted: ____________________o___ha___lrorhnrlrhaooeraarhrlnahrohhrneohhrhlhaalrrnllxlnwuxse_ hh_____________________________________________________________________________________________________________________________________________________________________________________\n",
      "Target: first add milk to the shredded cheese\n",
      "Predicted: _______________________________________________ddarlrorhnrlrhaooeraarhrlnahrohhrnhohhrhlhaalrrnllq-nwuxse__hh___________________________________________________________________________________________________________________________________________________________________________________________________________________________________________________________________________________________________________________________________________________________________________________________________________________________________________________________________\n",
      "Target: a concurrent effort is needed to make oceanographic data useful on the spot\n",
      "Epoch:  31 Cost:  247.217109327 , time taken = 71.0566108227\n",
      "Epoch:  32 Cost:  217.541184937 , time taken = 70.9510929585\n",
      "Epoch:  33 Cost:  204.470021686 , time taken = 70.9457600117\n",
      "Epoch:  34 Cost:  203.223096041 , time taken = 70.9503128529\n",
      "Epoch:  35 Cost:  168.46402547 , time taken = 70.9901471138\n",
      "Epoch:  36 Cost:  163.49215906 , time taken = 71.1507339478\n",
      "Epoch:  37 Cost:  161.285072919 , time taken = 71.1029450893\n",
      "Epoch:  38 Cost:  159.949448546 , time taken = 71.1504731178\n",
      "Epoch:  39 Cost:  159.183973442 , time taken = 71.1125559807\n",
      "Epoch:  40 Cost:  159.114250554 , time taken = 71.109817028\n",
      "Predicted: ______________________________________________  __________________________________   ___________h_______n________   ______n_________ __ ______________ ________ __n__ _ _ ____ ____________________________________________    _____________________________________________\n",
      "Target: first add milk to the shredded cheese\n",
      "Predicted: ___________n  _______   _____________n____  _ _____________n_ ___ _n_ __ __ ____t__________   __________________ __  _______________________ ___________________ _________________________  ______________ _____ _____________  ________a________  _______________________ ____________________   _________ _____ _________________o__________ __ ______________ _ _____________________________ __________________ _________________________________n_________oo_  ________ __ __________ ______a_ ___  ___  _____________________________________   __________________________\n",
      "Target: a concurrent effort is needed to make oceanographic data useful on the spot\n",
      "Epoch:  41 Cost:  158.704587206 , time taken = 71.1458809376\n",
      "Epoch:  42 Cost:  158.036685404 , time taken = 71.0606939793\n",
      "Epoch:  43 Cost:  158.019804561 , time taken = 71.1034388542\n",
      "Epoch:  44 Cost:  157.637915158 , time taken = 71.2514369488\n",
      "Epoch:  45 Cost:  157.773609158 , time taken = 71.2389400005\n",
      "Epoch:  46 Cost:  157.519604914 , time taken = 71.3759717941\n",
      "Epoch:  47 Cost:  157.41757025 , time taken = 71.2725980282\n",
      "Epoch:  48 Cost:  157.324449955 , time taken = 71.1278278828\n",
      "Epoch:  49 Cost:  157.32770914 , time taken = 71.2588720322\n",
      "Epoch:  50 Cost:  157.19266969 , time taken = 71.1585171223\n",
      "Predicted: ________________n_____________________________  ________n_________________________ _ ___________a_______n_________  ________________ __ _______ _______________ __n____ _ ____ ___  _________________________________________ n ____________________________________________\n",
      "Target: first add milk to the shredded cheese\n",
      "Predicted: ___________nn__________  ____________n ___  _______________o_ _ _n_n____________________n__  n__________________ __  _________________________ ____________  ________________n____________  _____h______________ ___________    _o______n___ ____  _____________________ _____________ ________   _________ _____h __________________________  __h_ ____________ _n_____________________________n____________________o_______ _______________________n_________-__ _______ _n_____________n______a_  __  ___   _______________________ _ ______ ___   __________________________\n",
      "Target: a concurrent effort is needed to make oceanographic data useful on the spot\n",
      "Epoch:  51 Cost:  157.463656098 , time taken = 71.2921500206\n",
      "Epoch:  52 Cost:  157.308991397 , time taken = 71.2921559811\n",
      "Epoch:  53 Cost:  157.238287791 , time taken = 71.2449719906\n",
      "Epoch:  54 Cost:  156.848821358 , time taken = 71.1618700027\n",
      "Epoch:  55 Cost:  156.942572463 , time taken = 71.2684090137\n",
      "Epoch:  56 Cost:  156.969404424 , time taken = 71.4439089298\n",
      "Epoch:  57 Cost:  156.779745991 , time taken = 71.4116568565\n",
      "Epoch:  58 Cost:  156.842505249 , time taken = 71.2528619766\n",
      "Epoch:  59 Cost:  156.922822512 , time taken = 71.2659440041\n",
      "Epoch:  60 Cost:  156.973101016 , time taken = 71.3011579514\n",
      "Predicted: ______n ______________________________________  ________h_________________________a   __________n________________   __________________________________  __________n____ah ________a  _______________o_ _________________  ___   __________________________________o_________\n",
      "Target: first add milk to the shredded cheese\n",
      "Predicted: ___________n  __ _____   _________________  _______________o___n___n_ __________________ __  ___________________  _  _______________________ __________ _____ ____________________________  _____h________n_____a _______ ___   ________n____ ___  ____________________________________________   ______________a  _____________________o_____ __a_  ___________ _n_____________________________n__________________an____ _____________________n_____o____________ _________n______n______a______n_ ___  ___   _________________________a______a____  __________________________\n",
      "Target: a concurrent effort is needed to make oceanographic data useful on the spot\n",
      "Epoch:  61 Cost:  156.964411932 , time taken = 71.1301040649\n",
      "Epoch:  62 Cost:  156.982087591 , time taken = 71.2200200558\n",
      "Epoch:  63 Cost:  156.925149168 , time taken = 71.214427948\n",
      "Epoch:  64 Cost:  156.834850629 , time taken = 71.2430739403\n",
      "Epoch:  65 Cost:  156.812167717 , time taken = 71.3679218292\n",
      "Epoch:  66 Cost:  156.855874615 , time taken = 71.2009990215\n",
      "Epoch:  67 Cost:  156.615537737 , time taken = 71.2495260239\n",
      "Epoch:  68 Cost:  156.671677969 , time taken = 71.1379449368\n",
      "Epoch:  69 Cost:  156.672845145 , time taken = 71.0970869064\n",
      "Epoch:  70 Cost:  156.6421665 , time taken = 71.0894949436\n",
      "Predicted: ______  ______________________________________  __________________________________   ___________a  _____n_______    _________________ _   ________________________a____a   _______a  _____________________ _____ ___________  ____________________________________o_________\n",
      "Target: first add milk to the shredded cheese\n",
      "Predicted: ___________  ________n  _____________o  __  _______________ ___h___h_ ___  ________________   __________________  _  _______________________ ______________  ________________ ___________   ______________ _____a __________    ________n ___  __  ___________________  _ ____________n_______    ______________hh  ___ ______________________ __a______________ _______________________________ _____________________________   ______________n_____n_________n_________  _n__ __________a_ ____a_  __  ___   _________________________a______a________________________________\n",
      "Target: a concurrent effort is needed to make oceanographic data useful on the spot\n",
      "Epoch:  71 Cost:  156.720217726 , time taken = 71.1550428867\n",
      "Epoch:  72 Cost:  156.453539277 , time taken = 71.128715992\n",
      "Epoch:  73 Cost:  156.262913761 , time taken = 71.1602158546\n",
      "Epoch:  74 Cost:  156.308727925 , time taken = 71.2057421207\n",
      "Epoch:  75 Cost:  156.335012235 , time taken = 71.0835621357\n",
      "Epoch:  76 Cost:  156.231492502 , time taken = 70.9847970009\n",
      "Epoch:  77 Cost:  156.178158404 , time taken = 71.1341640949\n",
      "Epoch:  78 Cost:  156.040101387 , time taken = 71.2153270245\n",
      "Epoch:  79 Cost:  156.29036606 , time taken = 71.3365271091\n",
      "Epoch:  80 Cost:  156.020990446 , time taken = 71.0890460014\n",
      "Predicted: ______n______________________________________n  __________________________________a_ ___ _______ah _____________n   _________________ ________ ___________________n____aa  _______h  _____________________n_____n_______n____n  __________________________________n_________\n",
      "Target: first add milk to the shredded cheese\n",
      "Predicted: ______________________  __________________n _ ___________________h_n ___n__________________a  ___________________ _a _______________________n _________________na  ____________ ______n___h  ____n______________n ______nn __a  ________n_____ __n ___________________n ___ ___________________na _____________naa  _____________________________a_  ___________n_______________________________n_____________________________ ________________n__________________ _______________________a_  ___a_  __n ___a  _________________________a______n_____ __________________________\n",
      "Target: a concurrent effort is needed to make oceanographic data useful on the spot\n",
      "Epoch:  81 Cost:  155.936780058 , time taken = 71.0789198875\n",
      "Epoch:  82 Cost:  156.026445939 , time taken = 71.2089488506\n",
      "Epoch:  83 Cost:  155.996852395 , time taken = 71.1326270103\n",
      "Epoch:  84 Cost:  156.275587655 , time taken = 71.2395088673\n",
      "Epoch:  85 Cost:  156.099066665 , time taken = 71.2897689342\n",
      "Epoch:  86 Cost:  156.229130419 , time taken = 71.1805429459\n",
      "Epoch:  87 Cost:  155.911911569 , time taken = 71.2503960133\n",
      "Epoch:  88 Cost:  155.71003993 , time taken = 71.1570088863\n",
      "Epoch:  89 Cost:  155.751177984 , time taken = 71.4104440212\n",
      "Epoch:  90 Cost:  155.961853222 , time taken = 71.111109972\n",
      "Predicted: _____________________________n ______________n  __________________________________ _ ____________________________   _________________ ________ ___________________n____aa d_______a  ___________________________________ _____n_____________________________________________\n",
      "Target: first add milk to the shredded cheese\n",
      "Predicted: _____________________  ____________________ _____________________h_a_____ ______________ ___  _________a___________  __________________________________________aa h____________  ________   ____________________  ______n  __  __n___________  __  ___________________  __  ___________________   ______________aa h___ _________________________na h_____________h_____________________________n_________________________________________________________________  ________ ____________________n_____  ___  t_______________________h_ ______a____  __________________________\n",
      "Target: a concurrent effort is needed to make oceanographic data useful on the spot\n",
      "Epoch:  91 Cost:  155.994867678 , time taken = 70.9550030231\n",
      "Epoch:  92 Cost:  155.647350134 , time taken = 71.1057360172\n",
      "Epoch:  93 Cost:  155.695198127 , time taken = 71.0232970715\n",
      "Epoch:  94 Cost:  155.460753239 , time taken = 71.0743358135\n",
      "Epoch:  95 Cost:  155.699215056 , time taken = 71.0427651405\n",
      "Epoch:  96 Cost:  155.555669278 , time taken = 71.0064151287\n",
      "Epoch:  97 Cost:  155.523424253 , time taken = 70.9790899754\n",
      "Epoch:  98 Cost:  155.517951653 , time taken = 70.937691927\n",
      "Epoch:  99 Cost:  155.652681103 , time taken = 70.9414300919\n",
      "Epoch:  100 Cost:  155.568325293 , time taken = 71.235574007\n",
      "Predicted: ______________________________ ______________ n___________________________________ ______________________________   _________________ ________ ________________________aa l_______a t___________________________________ ___________________________________________________\n",
      "Target: first add milk to the shredded cheese\n",
      "Predicted: _____________________  __________________________________________ __________________________ t_____________________ t__________________________________________aat'____________n__________  ____________________n_______n ____t__n____________ __a ___________________n________________________n _______________a  s_______________________________ ______________________________________________________________________________________________________________ h________n ______________________________n h_______________________n_a______a________________________________\n",
      "Target: a concurrent effort is needed to make oceanographic data useful on the spot\n",
      "Epoch:  101 Cost:  155.512678352 , time taken = 71.0128970146\n",
      "Epoch:  102 Cost:  155.639391472 , time taken = 70.9419970512\n",
      "Epoch:  103 Cost:  155.524628214 , time taken = 70.931951046\n",
      "Epoch:  104 Cost:  155.677461403 , time taken = 71.1114020348\n",
      "Epoch:  105 Cost:  155.70444823 , time taken = 70.8926038742\n",
      "Epoch:  106 Cost:  155.621219628 , time taken = 70.9242639542\n",
      "Epoch:  107 Cost:  155.654231227 , time taken = 71.1851561069\n",
      "Epoch:  108 Cost:  155.599967352 , time taken = 71.1721351147\n",
      "Epoch:  109 Cost:  155.726698217 , time taken = 71.0515551567\n",
      "Epoch:  110 Cost:  155.90040176 , time taken = 70.8719990253\n",
      "Predicted: _____________________________  _____________________________________________________n____________________________ h____________________________________________________a_dg_________n________________________________________ t_____________________________________________\n",
      "Target: first add milk to the shredded cheese\n",
      "Predicted: ____________a_________ ______________________________________________ w___ ________________  h____________________ _________________________ __________________aadlg___________n__________  t___________________a_____________t_______________ __n ___________________n _______________________ h_______________a dl_____________________________a dl_____________n _____________________________________________________________________________________________  eg____________________________n__________  w_________________________a______a________________________________\n",
      "Target: a concurrent effort is needed to make oceanographic data useful on the spot\n",
      "Epoch:  111 Cost:  155.931760686 , time taken = 70.9928689003\n",
      "Epoch:  112 Cost:  155.717940513 , time taken = 70.8977720737\n",
      "Epoch:  113 Cost:  155.736748684 , time taken = 71.1484291553\n",
      "Epoch:  114 Cost:  155.795857845 , time taken = 71.169960022\n",
      "Epoch:  115 Cost:  155.657291548 , time taken = 71.0396130085\n",
      "Epoch:  116 Cost:  155.656912694 , time taken = 71.0198907852\n",
      "Epoch:  117 Cost:  155.614286463 , time taken = 70.992497921\n",
      "Epoch:  118 Cost:  155.602134708 , time taken = 71.0272979736\n",
      "Epoch:  119 Cost:  155.775513504 , time taken = 71.0141010284\n",
      "Epoch:  120 Cost:  155.610127361 , time taken = 70.9877550602\n",
      "Predicted: ______________________________________________  h_________________________________ ______________________________  ____________________________________________________a s _______  _________________________________________  h____________________________________________\n",
      "Target: first add milk to the shredded cheese\n",
      "Predicted: _______________________ ____________ _______________________________ ______________________  w_____________________  __________________________________________a dlh___________ _________  d ___________________n___________  h____________________________________________n___________________t________________  l _____________________________a dl____________________________________________________________________________________________________________    _______________________________________  w_________________________ ______ ____ ___________________________\n",
      "Target: a concurrent effort is needed to make oceanographic data useful on the spot\n",
      "Epoch:  121 Cost:  155.54250958 , time taken = 70.94739604\n",
      "Epoch:  122 Cost:  155.762513567 , time taken = 71.0319359303\n",
      "Epoch:  123 Cost:  155.684979391 , time taken = 70.9706158638\n",
      "Epoch:  124 Cost:  155.540313955 , time taken = 71.0372271538\n",
      "Epoch:  125 Cost:  155.58143909 , time taken = 71.0797681808\n",
      "Epoch:  126 Cost:  155.672491401 , time taken = 71.0697350502\n",
      "Epoch:  127 Cost:  155.558015957 , time taken = 70.9366738796\n",
      "Epoch:  128 Cost:  155.58206051 , time taken = 70.9134750366\n",
      "Epoch:  129 Cost:  155.723955976 , time taken = 70.9278497696\n",
      "Epoch:  130 Cost:  155.273717028 , time taken = 70.9804089069\n",
      "Predicted: _____________________________________________ th__________________________________ ______________________________ n____________________________________________________ a  _______  t _______________________________________  _____________________________________________\n",
      "Target: first add milk to the shredded cheese\n",
      "Predicted: ___________   '______  h___________________________________________h____ __________________  h____________________ h'__________________________________________   x______________________  _________________________________ _t________________________________________________________________t________________   x_____________________________ a _____________________________________________________________________________________________________________    _______________________________________ zh________________________________ ____ ___________________________\n",
      "Target: a concurrent effort is needed to make oceanographic data useful on the spot\n",
      "Epoch:  131 Cost:  155.439882985 , time taken = 70.940803051\n",
      "Epoch:  132 Cost:  155.509406047 , time taken = 70.8767871857\n",
      "Epoch:  133 Cost:  155.390382636 , time taken = 70.9935269356\n",
      "Epoch:  134 Cost:  155.388005208 , time taken = 71.011797905\n",
      "Epoch:  135 Cost:  155.38124817 , time taken = 71.0715079308\n",
      "Epoch:  136 Cost:  155.31172912 , time taken = 71.164041996\n",
      "Epoch:  137 Cost:  155.344029192 , time taken = 70.9499750137\n",
      "Epoch:  138 Cost:  155.083404527 , time taken = 70.9638650417\n",
      "Epoch:  139 Cost:  155.147210438 , time taken = 70.9297499657\n",
      "Epoch:  140 Cost:  155.281581326 , time taken = 71.0085728168\n",
      "Predicted: ___________________n__________th__ wh________ zh__________________________________ ______________________________ t____________________________________________________ all_______  ll______________________________________________________________________________________\n",
      "Target: first add milk to the shredded cheese\n",
      "Predicted: ___________   l____________________________________________ ____________  _________________    ___________________ wh__________________________________________  dl_______________________   ____________________ __________  h_______________________________________________________________ z________________  lx_____________________________a lx____________________________________________________________________________  ____________________ hg_______ all___________________________________ ____t __________________________________ ______________________________\n",
      "Target: a concurrent effort is needed to make oceanographic data useful on the spot\n",
      "Epoch:  141 Cost:  155.158529833 , time taken = 70.9693880081\n",
      "Epoch:  142 Cost:  155.124866859 , time taken = 71.0546488762\n",
      "Epoch:  143 Cost:  155.038749177 , time taken = 71.0610470772\n",
      "Epoch:  144 Cost:  155.058374911 , time taken = 71.0280489922\n",
      "Epoch:  145 Cost:  154.912279263 , time taken = 71.1327970028\n",
      "Epoch:  146 Cost:  154.989352156 , time taken = 71.0988950729\n",
      "Epoch:  147 Cost:  154.907753901 , time taken = 71.0657289028\n",
      "Epoch:  148 Cost:  154.970760739 , time taken = 70.8902947903\n",
      "Epoch:  149 Cost:  155.050100909 , time taken = 71.064661026\n",
      "Epoch:  150 Cost:  155.018750639 , time taken = 70.9805529118\n",
      "Predicted: _______________________________________ _____   h________________________________________________________________  hh__________________________________________________  ll_______  ll______________________________________________________________________________________\n",
      "Target: first add milk to the shredded cheese\n",
      "Predicted: ___________n  _______________________________________________ wn________ ___________________ h ___________________  h__________________________________________h l _______________________  s_________________________________________________________________________________________________ t________________  t _____________________________a dl____________________________________________________________________________ h____________________ d _______  ll____________________________________ t__ h ________________________________________________________________\n",
      "Target: a concurrent effort is needed to make oceanographic data useful on the spot\n",
      "Epoch:  151 Cost:  155.047480462 , time taken = 71.0848450661\n",
      "Epoch:  152 Cost:  155.164920545 , time taken = 71.0870149136\n",
      "Epoch:  153 Cost:  155.249233841 , time taken = 70.8917479515\n",
      "Epoch:  154 Cost:  155.147244494 , time taken = 70.9825391769\n",
      "Epoch:  155 Cost:  155.328628597 , time taken = 70.8479781151\n",
      "Epoch:  156 Cost:  155.028641183 , time taken = 70.9703969955\n",
      "Epoch:  157 Cost:  154.878206862 , time taken = 70.9968681335\n",
      "Epoch:  158 Cost:  155.060270596 , time taken = 71.0355830193\n",
      "Epoch:  159 Cost:  155.116270602 , time taken = 70.9637989998\n",
      "Epoch:  160 Cost:  154.976096479 , time taken = 70.9081068039\n",
      "Predicted: _____________________________ hs__ th__ ______ hq___________________________________ t___________________________  t__h________________________________________________  go_______  d'______________________________________________________________________________________\n",
      "Target: first add milk to the shredded cheese\n",
      "Predicted: ___________h lr_____________________________________________  hs________ __________________  hh___________________  wh_________________________________________h lr_______________________  l_______________________________ ____________________  ____________________________________________  th_____________a to_____________________________a go__________________________________________________________________________________________________ els______  el______________________________ _____ ___ __________________________________________________________________\n",
      "Target: a concurrent effort is needed to make oceanographic data useful on the spot\n",
      "Epoch:  161 Cost:  154.872033774 , time taken = 70.9739580154\n",
      "Epoch:  162 Cost:  155.003361551 , time taken = 70.9433238506\n",
      "Epoch:  163 Cost:  154.982933885 , time taken = 70.9992890358\n",
      "Epoch:  164 Cost:  154.798016808 , time taken = 71.0024578571\n",
      "Epoch:  165 Cost:  154.793848454 , time taken = 70.9984779358\n",
      "Epoch:  166 Cost:  154.997680738 , time taken = 70.9738380909\n",
      "Epoch:  167 Cost:  155.015035165 , time taken = 71.0940351486\n",
      "Epoch:  168 Cost:  155.006174989 , time taken = 71.133452177\n",
      "Epoch:  169 Cost:  154.812635664 , time taken = 70.9175331593\n",
      "Epoch:  170 Cost:  154.910610316 , time taken = 70.8708767891\n",
      "Predicted: ______________________________ h_____________  h____________________________________ _____________________________  w__________________________________________________a lx______ a ll______________________________________________________________________________________\n",
      "Target: first add milk to the shredded cheese\n",
      "Predicted: _____________________________________________________________ ______________________________ hh___________________  t__________________________________________h gr______________________n el_______________________________a_____________________ dq____________________________________________ ______________a to_____________________________h to__________________________________________________________________________________________________ tl_______  ll_____________________________  _________ __________________________________________________________________\n",
      "Target: a concurrent effort is needed to make oceanographic data useful on the spot\n",
      "Epoch:  171 Cost:  154.862306694 , time taken = 70.953715086\n",
      "Epoch:  172 Cost:  154.889292061 , time taken = 71.0432391167\n",
      "Epoch:  173 Cost:  154.978316585 , time taken = 71.0558869839\n",
      "Epoch:  174 Cost:  154.599422183 , time taken = 71.0420351028\n",
      "Epoch:  175 Cost:  155.081904486 , time taken = 70.9147098064\n",
      "Epoch:  176 Cost:  154.738732071 , time taken = 70.8815670013\n",
      "Epoch:  177 Cost:  154.954198532 , time taken = 70.9822380543\n",
      "Epoch:  178 Cost:  154.99458209 , time taken = 71.0808520317\n",
      "Epoch:  179 Cost:  155.150739348 , time taken = 71.1487269402\n",
      "Epoch:  180 Cost:  154.911804912 , time taken = 71.0211708546\n",
      "Predicted: ______________________________________________ x____________________________________  l___________________________  dl_________________________________________________a gx______   gx______________________________________________________________________________________\n",
      "Target: first add milk to the shredded cheese\n",
      "Predicted: ____________  ll______________________________________________________ _n __________________ h_____________________ ___________________________________________h  o______________________   l_______________________________  w__________________  dl___________________________________________ _______________h  o_____________________________h  o________________________________________________________________________________ _________________  l_______  dq___________________________________________________________________________________________________________\n",
      "Target: a concurrent effort is needed to make oceanographic data useful on the spot\n",
      "Epoch:  181 Cost:  155.056711137 , time taken = 70.9147639275\n",
      "Epoch:  182 Cost:  154.936002105 , time taken = 71.0309870243\n",
      "Epoch:  183 Cost:  154.781095192 , time taken = 71.0087659359\n",
      "Epoch:  184 Cost:  154.938178193 , time taken = 70.9726479053\n",
      "Epoch:  185 Cost:  154.95210209 , time taken = 71.0781178474\n",
      "Epoch:  186 Cost:  155.000128847 , time taken = 70.9754190445\n",
      "Epoch:  187 Cost:  155.256449 , time taken = 71.0090680122\n",
      "Epoch:  188 Cost:  154.92628138 , time taken = 71.0584390163\n",
      "Epoch:  189 Cost:  155.757238623 , time taken = 71.1440448761\n",
      "Epoch:  190 Cost:  155.889881436 , time taken = 71.0670368671\n",
      "Predicted: ___________________n__________________________ n____________________________________ do___________________________a dl_________________________________________________h tr_______h lo______________________________________________________________________________________\n",
      "Target: first add milk to the shredded cheese\n",
      "Predicted: ____________  ll____________________________________________________________________________ a'____________________ h__________________________________________h  ol______________________  o_______________________________a w___________________ h____________________________________________  ______________h  h_____________________________h gr_________________________________________________________________________________________________  el_______  ll___________________________________________________________________________________________________________\n",
      "Target: a concurrent effort is needed to make oceanographic data useful on the spot\n",
      "Epoch:  191 Cost:  155.252989854 , time taken = 70.83872509\n",
      "Epoch:  192 Cost:  155.291713459 , time taken = 70.9036169052\n",
      "Epoch:  193 Cost:  154.982515483 , time taken = 70.9538218975\n",
      "Epoch:  194 Cost:  155.297490502 , time taken = 71.0186479092\n",
      "Epoch:  195 Cost:  154.995452909 , time taken = 71.3128750324\n",
      "Epoch:  196 Cost:  155.01844443 , time taken = 71.6172351837\n",
      "Epoch:  197 Cost:  155.030030626 , time taken = 72.0996870995\n",
      "Epoch:  198 Cost:  154.842053015 , time taken = 72.0896060467\n",
      "Epoch:  199 Cost:  156.006124852 , time taken = 71.4464130402\n",
      "Epoch:  200 Cost:  155.100362818 , time taken = 71.5082290173\n",
      "Predicted: ____________________________________________________________________________________  l___________________________a el_________________________________________________  go_______a lo______________________________________________________________________________________\n",
      "Target: first add milk to the shredded cheese\n",
      "Predicted: ___________   ll____________________________________________________________________________ dl____________________ ___________________________________________   ox______________________  r_______________________________a el__________________ el___________________________________________________________h  r_____________________________h  r_________________________________________________________________________________________________n  l_______  wq___________________________________________________________________________________________________________\n",
      "Target: a concurrent effort is needed to make oceanographic data useful on the spot\n",
      "Epoch:  201 Cost:  154.759595561 , time taken = 71.7089910507\n",
      "Epoch:  202 Cost:  154.924042444 , time taken = 71.4871270657\n",
      "Epoch:  203 Cost:  155.103645027 , time taken = 71.0410819054\n",
      "Epoch:  204 Cost:  155.070951326 , time taken = 71.0925028324\n",
      "Epoch:  205 Cost:  154.752442609 , time taken = 71.8540699482\n",
      "Epoch:  206 Cost:  155.833082406 , time taken = 70.9837639332\n",
      "Epoch:  207 Cost:  inf , time taken = 71.1068429947\n",
      "Epoch:  208 Cost:  157.713662355 , time taken = 71.636646986\n",
      "Epoch:  209 Cost:  154.950998255 , time taken = 71.4491629601\n",
      "Epoch:  210 Cost:  154.801219966 , time taken = 71.2746298313\n",
      "Predicted: ______n____________n__________________________ h____________________________________ h____________________________ n _h________________________________________________h gr_______a ll______________________________________________________________________________________\n",
      "Target: first add milk to the shredded cheese\n",
      "Predicted: ___________  er____________________________________________________________________________  an____________________ wq_________________________________________a gr______________________a  o___________________________  h_a dl__________________ dl__________________ _______________________  hq_____________h to_____________________________h to_________________________________________________________________________________________________a el_______a ll___________________________________________________________________________________________________________\n",
      "Target: a concurrent effort is needed to make oceanographic data useful on the spot\n",
      "Epoch:  211 Cost:  154.965054252 , time taken = 71.2399070263\n",
      "Epoch:  212 Cost:  154.783893889 , time taken = 72.612735033\n",
      "Epoch:  213 Cost:  154.675612159 , time taken = 75.1431059837\n",
      "Epoch:  214 Cost:  154.852050623 , time taken = 71.4522740841\n",
      "Epoch:  215 Cost:  155.018363077 , time taken = 71.19917202\n",
      "Epoch:  216 Cost:  155.048639633 , time taken = 71.1191399097\n",
      "Epoch:  217 Cost:  154.698249122 , time taken = 72.009264946\n",
      "Epoch:  218 Cost:  155.289215384 , time taken = 71.1654510498\n",
      "Epoch:  219 Cost:  155.067213418 , time taken = 70.9711358547\n",
      "Epoch:  220 Cost:  155.082931368 , time taken = 70.8622410297\n",
      "Predicted: ______n___________________________________________________________________________________________________________  el_________________________________________________h lo_______a lr______________________________________________________________________________________\n",
      "Target: first add milk to the shredded cheese\n",
      "Predicted: ____________  rr____________________________________________________________________________ n_____________________ hh_________________________________________a  rg______________________  rq__________________________  ha______________________ d'___________________________________________________________h  oxq___________________________h  o_________________________________________________________________________________________________  dr_______   ____________________________________________________________________________________________________________\n",
      "Target: a concurrent effort is needed to make oceanographic data useful on the spot\n",
      "Epoch:  221 Cost:  154.809687393 , time taken = 70.906701088\n",
      "Epoch:  222 Cost:  154.772033204 , time taken = 71.47574687\n",
      "Epoch:  223 Cost:  154.855568221 , time taken = 71.9724640846\n",
      "Epoch:  224 Cost:  inf , time taken = 71.5156331062\n",
      "Epoch:  225 Cost:  inf , time taken = 68.8437130451\n",
      "Epoch:  226 Cost:  inf , time taken = 68.5090708733\n",
      "Epoch:  227 Cost:  inf , time taken = 68.7715940475\n",
      "Epoch:  228 Cost:  inf , time taken = 68.5516219139\n",
      "Epoch:  229 Cost:  inf , time taken = 68.7489621639\n",
      "Epoch:  230 Cost:  inf , time taken = 68.7004721165\n",
      "Predicted: ____________________________________________________________________________________ __________________________________ ____________________________________________________________________________________________________________________________________________________\n",
      "Target: first add milk to the shredded cheese\n",
      "Predicted: ____________ ___________________________________________________________________________________________________________________________________________________________________________________________________________________________________________________________________________________________________________________________________________________________________________________________________________________________________________________________________________________________________________________________________________________________________\n",
      "Target: a concurrent effort is needed to make oceanographic data useful on the spot\n",
      "Epoch:  231 Cost:  inf , time taken = 68.6198148727\n",
      "Epoch:  232 Cost:  inf , time taken = 68.6746201515\n",
      "Epoch:  233 Cost:  inf , time taken = 68.7833869457\n"
     ]
    },
    {
     "ename": "KeyboardInterrupt",
     "evalue": "",
     "output_type": "error",
     "traceback": [
      "\u001b[1;31m---------------------------------------------------------------------------\u001b[0m",
      "\u001b[1;31mKeyboardInterrupt\u001b[0m                         Traceback (most recent call last)",
      "\u001b[1;32m<ipython-input-53-98a6cb27eb7d>\u001b[0m in \u001b[0;36m<module>\u001b[1;34m()\u001b[0m\n\u001b[0;32m     13\u001b[0m         \u001b[0mcurr_tgt\u001b[0m \u001b[1;33m=\u001b[0m \u001b[0mnp\u001b[0m\u001b[1;33m.\u001b[0m\u001b[0masarray\u001b[0m\u001b[1;33m(\u001b[0m\u001b[1;33m[\u001b[0m\u001b[0mcurr_tgt\u001b[0m\u001b[1;33m]\u001b[0m\u001b[1;33m)\u001b[0m\u001b[1;33m\u001b[0m\u001b[0m\n\u001b[0;32m     14\u001b[0m         \u001b[1;32mtry\u001b[0m\u001b[1;33m:\u001b[0m\u001b[1;33m\u001b[0m\u001b[0m\n\u001b[1;32m---> 15\u001b[1;33m             \u001b[0m_\u001b[0m\u001b[1;33m,\u001b[0m\u001b[0m_\u001b[0m\u001b[1;33m,\u001b[0m\u001b[0mc\u001b[0m\u001b[1;33m,\u001b[0m\u001b[0m_\u001b[0m\u001b[1;33m=\u001b[0m\u001b[0mtrain\u001b[0m\u001b[1;33m(\u001b[0m\u001b[0mcurr_inp\u001b[0m\u001b[1;33m,\u001b[0m\u001b[0mcurr_tgt\u001b[0m\u001b[1;33m)\u001b[0m\u001b[1;33m\u001b[0m\u001b[0m\n\u001b[0m\u001b[0;32m     16\u001b[0m             \u001b[0mcost\u001b[0m \u001b[1;33m+=\u001b[0m \u001b[0mc\u001b[0m\u001b[1;33m\u001b[0m\u001b[0m\n\u001b[0;32m     17\u001b[0m         \u001b[1;32mexcept\u001b[0m \u001b[0mIndexError\u001b[0m\u001b[1;33m:\u001b[0m\u001b[1;33m\u001b[0m\u001b[0m\n",
      "\u001b[1;32m/usr/local/lib/python2.7/dist-packages/theano/compile/function_module.pyc\u001b[0m in \u001b[0;36m__call__\u001b[1;34m(self, *args, **kwargs)\u001b[0m\n\u001b[0;32m    593\u001b[0m         \u001b[0mt0_fn\u001b[0m \u001b[1;33m=\u001b[0m \u001b[0mtime\u001b[0m\u001b[1;33m.\u001b[0m\u001b[0mtime\u001b[0m\u001b[1;33m(\u001b[0m\u001b[1;33m)\u001b[0m\u001b[1;33m\u001b[0m\u001b[0m\n\u001b[0;32m    594\u001b[0m         \u001b[1;32mtry\u001b[0m\u001b[1;33m:\u001b[0m\u001b[1;33m\u001b[0m\u001b[0m\n\u001b[1;32m--> 595\u001b[1;33m             \u001b[0moutputs\u001b[0m \u001b[1;33m=\u001b[0m \u001b[0mself\u001b[0m\u001b[1;33m.\u001b[0m\u001b[0mfn\u001b[0m\u001b[1;33m(\u001b[0m\u001b[1;33m)\u001b[0m\u001b[1;33m\u001b[0m\u001b[0m\n\u001b[0m\u001b[0;32m    596\u001b[0m         \u001b[1;32mexcept\u001b[0m \u001b[0mException\u001b[0m\u001b[1;33m:\u001b[0m\u001b[1;33m\u001b[0m\u001b[0m\n\u001b[0;32m    597\u001b[0m             \u001b[1;32mif\u001b[0m \u001b[0mhasattr\u001b[0m\u001b[1;33m(\u001b[0m\u001b[0mself\u001b[0m\u001b[1;33m.\u001b[0m\u001b[0mfn\u001b[0m\u001b[1;33m,\u001b[0m \u001b[1;34m'position_of_error'\u001b[0m\u001b[1;33m)\u001b[0m\u001b[1;33m:\u001b[0m\u001b[1;33m\u001b[0m\u001b[0m\n",
      "\u001b[1;32m/usr/local/lib/python2.7/dist-packages/theano/scan_module/scan_op.pyc\u001b[0m in \u001b[0;36mrval\u001b[1;34m(p, i, o, n, allow_gc)\u001b[0m\n\u001b[0;32m    670\u001b[0m         def rval(p=p, i=node_input_storage, o=node_output_storage, n=node,\n\u001b[0;32m    671\u001b[0m                  allow_gc=allow_gc):\n\u001b[1;32m--> 672\u001b[1;33m             \u001b[0mr\u001b[0m \u001b[1;33m=\u001b[0m \u001b[0mp\u001b[0m\u001b[1;33m(\u001b[0m\u001b[0mn\u001b[0m\u001b[1;33m,\u001b[0m \u001b[1;33m[\u001b[0m\u001b[0mx\u001b[0m\u001b[1;33m[\u001b[0m\u001b[1;36m0\u001b[0m\u001b[1;33m]\u001b[0m \u001b[1;32mfor\u001b[0m \u001b[0mx\u001b[0m \u001b[1;32min\u001b[0m \u001b[0mi\u001b[0m\u001b[1;33m]\u001b[0m\u001b[1;33m,\u001b[0m \u001b[0mo\u001b[0m\u001b[1;33m)\u001b[0m\u001b[1;33m\u001b[0m\u001b[0m\n\u001b[0m\u001b[0;32m    673\u001b[0m             \u001b[1;32mfor\u001b[0m \u001b[0mo\u001b[0m \u001b[1;32min\u001b[0m \u001b[0mnode\u001b[0m\u001b[1;33m.\u001b[0m\u001b[0moutputs\u001b[0m\u001b[1;33m:\u001b[0m\u001b[1;33m\u001b[0m\u001b[0m\n\u001b[0;32m    674\u001b[0m                 \u001b[0mcompute_map\u001b[0m\u001b[1;33m[\u001b[0m\u001b[0mo\u001b[0m\u001b[1;33m]\u001b[0m\u001b[1;33m[\u001b[0m\u001b[1;36m0\u001b[0m\u001b[1;33m]\u001b[0m \u001b[1;33m=\u001b[0m \u001b[0mTrue\u001b[0m\u001b[1;33m\u001b[0m\u001b[0m\n",
      "\u001b[1;32m/usr/local/lib/python2.7/dist-packages/theano/scan_module/scan_op.pyc\u001b[0m in \u001b[0;36m<lambda>\u001b[1;34m(node, args, outs)\u001b[0m\n\u001b[0;32m    659\u001b[0m                         \u001b[0margs\u001b[0m\u001b[1;33m,\u001b[0m\u001b[1;33m\u001b[0m\u001b[0m\n\u001b[0;32m    660\u001b[0m                         \u001b[0mouts\u001b[0m\u001b[1;33m,\u001b[0m\u001b[1;33m\u001b[0m\u001b[0m\n\u001b[1;32m--> 661\u001b[1;33m                         self, node)\n\u001b[0m\u001b[0;32m    662\u001b[0m         \u001b[1;32mexcept\u001b[0m \u001b[1;33m(\u001b[0m\u001b[0mImportError\u001b[0m\u001b[1;33m,\u001b[0m \u001b[0mtheano\u001b[0m\u001b[1;33m.\u001b[0m\u001b[0mgof\u001b[0m\u001b[1;33m.\u001b[0m\u001b[0mcmodule\u001b[0m\u001b[1;33m.\u001b[0m\u001b[0mMissingGXX\u001b[0m\u001b[1;33m)\u001b[0m\u001b[1;33m:\u001b[0m\u001b[1;33m\u001b[0m\u001b[0m\n\u001b[0;32m    663\u001b[0m             \u001b[0mp\u001b[0m \u001b[1;33m=\u001b[0m \u001b[0mself\u001b[0m\u001b[1;33m.\u001b[0m\u001b[0mexecute\u001b[0m\u001b[1;33m\u001b[0m\u001b[0m\n",
      "\u001b[1;32mscan_perform.pyx\u001b[0m in \u001b[0;36mtheano.scan_module.scan_perform.perform (/home/anirban/.theano/compiledir_Linux-3.16--generic-x86_64-with-Ubuntu-14.04-trusty-x86_64-2.7.6-64/scan_perform/mod.cpp:4707)\u001b[1;34m()\u001b[0m\n",
      "\u001b[1;32m/usr/local/lib/python2.7/dist-packages/theano/tensor/type.pyc\u001b[0m in \u001b[0;36mvalue_zeros\u001b[1;34m(self, shape)\u001b[0m\n\u001b[0;32m    577\u001b[0m             \u001b[1;32mreturn\u001b[0m \u001b[1;33m(\u001b[0m\u001b[1;33m)\u001b[0m\u001b[1;33m\u001b[0m\u001b[0m\n\u001b[0;32m    578\u001b[0m \u001b[1;33m\u001b[0m\u001b[0m\n\u001b[1;32m--> 579\u001b[1;33m     \u001b[1;32mdef\u001b[0m \u001b[0mvalue_zeros\u001b[0m\u001b[1;33m(\u001b[0m\u001b[0mself\u001b[0m\u001b[1;33m,\u001b[0m \u001b[0mshape\u001b[0m\u001b[1;33m)\u001b[0m\u001b[1;33m:\u001b[0m\u001b[1;33m\u001b[0m\u001b[0m\n\u001b[0m\u001b[0;32m    580\u001b[0m         \"\"\"\n\u001b[0;32m    581\u001b[0m         \u001b[0mCreate\u001b[0m \u001b[0man\u001b[0m \u001b[0mnumpy\u001b[0m \u001b[0mndarray\u001b[0m \u001b[0mfull\u001b[0m \u001b[0mof\u001b[0m \u001b[1;36m0\u001b[0m \u001b[0mvalues\u001b[0m\u001b[1;33m.\u001b[0m\u001b[1;33m\u001b[0m\u001b[0m\n",
      "\u001b[1;31mKeyboardInterrupt\u001b[0m: "
     ]
    }
   ],
   "source": [
    "num_epochs = 1000\n",
    "num_training_samples = len(inp1)\n",
    "for epoch in range(num_epochs):\n",
    "    t = time()\n",
    "    cost = 0\n",
    "    failures = []\n",
    "    for i in range(num_training_samples):\n",
    "        curr_inp = inp1[i]\n",
    "#         curr_msk = msk[i].astype(np.bool)\n",
    "#         curr_inp = curr_inp[curr_msk]\n",
    "        curr_inp = np.asarray([curr_inp],dtype=theano.config.floatX)\n",
    "        curr_tgt = np.asarray(tgt[i],dtype=np.int16)\n",
    "        curr_tgt = np.asarray([curr_tgt])\n",
    "        try:\n",
    "            _,_,c,_=train(curr_inp,curr_tgt)\n",
    "            cost += c\n",
    "        except IndexError:\n",
    "            failures.append(i)\n",
    "            print 'Current input seq: ', curr_inp\n",
    "            print 'Current output seq: ', curr_tgt\n",
    "            sys.exit(IndexError)\n",
    "    print 'Epoch: ', epoch, 'Cost: ', float(cost/(num_training_samples-len(failures))), ', time taken =', time()-t\n",
    "#     print 'Exceptions: ', len(failures), 'Total examples: ', num_training_samples\n",
    "    if epoch%10==0:        \n",
    "        for i in range(2):\n",
    "            curr_inp = inp1[i]\n",
    "            curr_inp = np.asarray([curr_inp],dtype=theano.config.floatX)\n",
    "            curr_tgt = np.asarray(tgt[i],dtype=np.int16)\n",
    "            curr_out = output_softmax.eval({l_in.input_var:curr_inp})\n",
    "            print 'Predicted:', index2char_TIMIT(np.argmax(curr_out, axis=2)[0])\n",
    "            print 'Target:', index2char_TIMIT(curr_tgt)\n"
   ]
  },
  {
   "cell_type": "code",
   "execution_count": null,
   "metadata": {
    "collapsed": false
   },
   "outputs": [],
   "source": [
    "# num_epochs = 100\n",
    "# num_training_samples = len(inp)\n",
    "# for epoch in range(num_epochs):\n",
    "#     t = time()\n",
    "#     cost = 0\n",
    "#     for i in range(num_training_samples):\n",
    "#         curr_inp = inp[i].astype(theano.config.floatX)\n",
    "#         curr_msk = msk[i].astype(np.bool)\n",
    "#         curr_inp = curr_inp[curr_msk]\n",
    "#         curr_inp = np.asarray([curr_inp])\n",
    "#         curr_tgt = np.asarray(tgt[i],dtype=np.int16)\n",
    "#         curr_tgt = np.asarray([curr_tgt])\n",
    "#         _,_,c,_=train(curr_inp,curr_tgt)\n",
    "#         cost += c\n",
    "#     print float(cost/num_training_samples), ', time taken =', time()-t"
   ]
  },
  {
   "cell_type": "code",
   "execution_count": null,
   "metadata": {
    "collapsed": false
   },
   "outputs": [],
   "source": [
    "print input_size"
   ]
  }
 ],
 "metadata": {
  "kernelspec": {
   "display_name": "Python 2",
   "language": "python",
   "name": "python2"
  },
  "language_info": {
   "codemirror_mode": {
    "name": "ipython",
    "version": 2
   },
   "file_extension": ".py",
   "mimetype": "text/x-python",
   "name": "python",
   "nbconvert_exporter": "python",
   "pygments_lexer": "ipython2",
   "version": "2.7.6"
  }
 },
 "nbformat": 4,
 "nbformat_minor": 0
}
